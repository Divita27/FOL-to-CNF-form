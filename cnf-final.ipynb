{
 "cells": [
  {
   "cell_type": "markdown",
   "metadata": {},
   "source": [
    "<h4> Please expand the respective sections to find the functions for that step along with some test cases that we tried. </h4>"
   ]
  },
  {
   "cell_type": "markdown",
   "metadata": {},
   "source": [
    "### Step-0: Converting input formula into list format"
   ]
  },
  {
   "cell_type": "markdown",
   "metadata": {},
   "source": [
    "Example Conversion:\n",
    "\n",
    "∀x (p(x) ⊃ ∀y (q(y) ⊃ r(y))) becomes ['forall', 'x', ['implies', ['p', 'x'], ['forall', 'y', ['implies', ['q', 'y'], ['r', 'y']]]]]\n",
    "\n",
    "Binary operators are given as [operator, operand1, operand2] format and unary operators are given as [operator, operand] format\n",
    "\n",
    "Quantifiers are given as [quatifier, variable, formula] format\n",
    "\n",
    "Predicates and functions are given as [predicate/function, variable1, variable2, ...] format"
   ]
  },
  {
   "cell_type": "code",
   "execution_count": 60,
   "metadata": {},
   "outputs": [],
   "source": [
    "import re\n",
    "\n",
    "def parse_logical_expression(formula):\n",
    "    op_map = {'∀': 'forall', '∃': 'exists', '¬': 'not', '∧': 'and', '∨': 'or', '⊃': 'implies', '↔': 'iff', '=': 'equals'}\n",
    "    precedence = {'=': 6, '¬': 5, '∧': 4, '∨': 3, '⊃': 2, '↔': 1, '∀': -1, '∃': -1}\n",
    "\n",
    "    formula = re.sub(r'([∀∃¬∧∨⊃↔=(),])', r' \\1 ', formula)\n",
    "    tokens = [token for token in re.split(r'\\s+', formula) if token]\n",
    "\n",
    "    def next_token():\n",
    "        if tokens:\n",
    "            return tokens.pop(0)\n",
    "        return None\n",
    "\n",
    "    def parse_primary():\n",
    "        token = next_token()\n",
    "        if token in ['∀', '∃']:\n",
    "            var_token = next_token()\n",
    "            expr = parse_expression()\n",
    "            return [op_map[token], var_token, expr]\n",
    "        elif token == '¬':\n",
    "            expr = parse_primary()\n",
    "            return [op_map[token], expr]\n",
    "        elif token.isalnum():\n",
    "            left_expr = token\n",
    "            if tokens and tokens[0] == '(':\n",
    "                tokens.pop(0)  # Remove '('\n",
    "                args = []\n",
    "                while tokens and tokens[0] != ')':\n",
    "                    args.append(parse_expression())\n",
    "                    if tokens and tokens[0] == ',':\n",
    "                        tokens.pop(0)\n",
    "                tokens.pop(0)  # Remove ')'\n",
    "                left_expr = [token] + args\n",
    "            return left_expr\n",
    "        elif token == '(':\n",
    "            expr = parse_expression()\n",
    "            if tokens[0] == ')':\n",
    "                tokens.pop(0)  # Remove ')'\n",
    "            return expr\n",
    "        else:\n",
    "            return None\n",
    "\n",
    "    def parse_expression():\n",
    "        expr = parse_primary()\n",
    "        while tokens and tokens[0] in precedence:\n",
    "            op = next_token()\n",
    "            if precedence[op] == -1:  # Handle quantifiers specially\n",
    "                continue\n",
    "            right_expr = parse_primary()\n",
    "            expr = [op_map[op], expr, right_expr]\n",
    "        return expr\n",
    "\n",
    "    parsed_expression = parse_expression()\n",
    "    return parsed_expression"
   ]
  },
  {
   "cell_type": "markdown",
   "metadata": {},
   "source": [
    "#### Test Cases"
   ]
  },
  {
   "cell_type": "code",
   "execution_count": 61,
   "metadata": {},
   "outputs": [
    {
     "name": "stdout",
     "output_type": "stream",
     "text": [
      "['forall', 'x', ['equals', ['p', 'x'], ['q', 'x']]]\n"
     ]
    }
   ],
   "source": [
    "formula = '∀x(p(x)=q(x))'\n",
    "parsed_formula = parse_logical_expression(formula)\n",
    "print(parsed_formula)"
   ]
  },
  {
   "cell_type": "code",
   "execution_count": 62,
   "metadata": {},
   "outputs": [
    {
     "name": "stdout",
     "output_type": "stream",
     "text": [
      "['forall', 'x', ['iff', ['p', ['f', 'x']], ['q', 'x']]]\n"
     ]
    }
   ],
   "source": [
    "formula = '∀x (p(f(x)) ↔ q(x))'\n",
    "parsed_formula = parse_logical_expression(formula)\n",
    "print(parsed_formula)"
   ]
  },
  {
   "cell_type": "code",
   "execution_count": 63,
   "metadata": {},
   "outputs": [
    {
     "name": "stdout",
     "output_type": "stream",
     "text": [
      "['forall', 'x', ['implies', ['p', 'x'], ['forall', 'y', ['implies', ['q', 'y'], ['r', 'y']]]]]\n"
     ]
    }
   ],
   "source": [
    "formula = '∀x(p(x)⊃∀y(q(y)⊃r(y)))'\n",
    "parsed_formula = parse_logical_expression(formula)\n",
    "print(parsed_formula)"
   ]
  },
  {
   "cell_type": "code",
   "execution_count": 64,
   "metadata": {},
   "outputs": [
    {
     "name": "stdout",
     "output_type": "stream",
     "text": [
      "['and', ['p', 'a'], ['q', 'b']]\n"
     ]
    }
   ],
   "source": [
    "formula = 'p(a) ∧ q(b)'\n",
    "parsed_formula = parse_logical_expression(formula)\n",
    "print(parsed_formula)"
   ]
  },
  {
   "cell_type": "code",
   "execution_count": 65,
   "metadata": {},
   "outputs": [
    {
     "name": "stdout",
     "output_type": "stream",
     "text": [
      "['forall', 'x', ['implies', ['p', 'x'], ['q', 'x']]]\n"
     ]
    }
   ],
   "source": [
    "formula = '∀x (p(x) ⊃ q(x))'\n",
    "parsed_formula = parse_logical_expression(formula)\n",
    "print(parsed_formula)"
   ]
  },
  {
   "cell_type": "markdown",
   "metadata": {},
   "source": [
    "### Step-1: Standardize the variables"
   ]
  },
  {
   "cell_type": "code",
   "execution_count": 66,
   "metadata": {},
   "outputs": [],
   "source": [
    "def standardizeVariables(fol, var_occurrences=None, current_renames=None):\n",
    "    if var_occurrences is None:\n",
    "        var_occurrences = {}\n",
    "    if current_renames is None:\n",
    "        current_renames = {}\n",
    "\n",
    "    # Directly return non-list elements.\n",
    "    if not isinstance(fol, list):\n",
    "        # Replace the variable with its renamed version if it's been renamed.\n",
    "        return current_renames.get(fol, fol)\n",
    "\n",
    "    operator, *args = fol\n",
    "\n",
    "    if operator in ['forall', 'exists']:\n",
    "        # For quantifiers, rename the variable if it's already been used.\n",
    "        quantifier, var, scope = fol\n",
    "        if var in var_occurrences:\n",
    "            # Increment and rename the variable.\n",
    "            new_var_name = f\"{var}__{var_occurrences[var]}\"\n",
    "            var_occurrences[var] += 1\n",
    "        else:\n",
    "            # Initialize the occurrence counter for new variables.\n",
    "            var_occurrences[var] = 1\n",
    "            new_var_name = var\n",
    "\n",
    "        # Update the renaming for the current scope.\n",
    "        updated_renames = {**current_renames, var: new_var_name}\n",
    "        # Recursively standardize the scope with the updated renaming.\n",
    "        standardized_scope = standardizeVariables(scope, var_occurrences, updated_renames)\n",
    "        return [quantifier, new_var_name, standardized_scope]\n",
    "    \n",
    "    # Recursively apply standardization to the arguments of logical operators.\n",
    "    return [operator] + [standardizeVariables(arg, var_occurrences, current_renames) for arg in args]"
   ]
  },
  {
   "cell_type": "markdown",
   "metadata": {},
   "source": [
    "#### Test Cases"
   ]
  },
  {
   "cell_type": "code",
   "execution_count": 67,
   "metadata": {},
   "outputs": [
    {
     "name": "stdout",
     "output_type": "stream",
     "text": [
      "['or', ['forall', 'x', ['P', 'x']], ['exists', 'x__1', ['Q', 'x__1']]]\n"
     ]
    }
   ],
   "source": [
    "fol_formula = ['or', ['forall', 'x', ['P', 'x']], ['exists', 'x', ['Q', 'x']]]\n",
    "standardized_fol = standardizeVariables(fol_formula)\n",
    "print(standardized_fol)"
   ]
  },
  {
   "cell_type": "code",
   "execution_count": 68,
   "metadata": {},
   "outputs": [
    {
     "name": "stdout",
     "output_type": "stream",
     "text": [
      "['forall', 'x', ['exists', 'y', ['or', ['not', ['P', 'x', 'y']], ['exists', 'x__1', ['Q', 'x__1', 'z']]]]]\n"
     ]
    }
   ],
   "source": [
    "fol_formula = ['forall', 'x', ['exists', 'y', ['or', ['not', ['P', 'x', 'y']], ['exists', 'x', ['Q', 'x', 'z']]]]]\n",
    "standardized_fol = standardizeVariables(fol_formula)\n",
    "print(standardized_fol)"
   ]
  },
  {
   "cell_type": "code",
   "execution_count": 69,
   "metadata": {},
   "outputs": [
    {
     "name": "stdout",
     "output_type": "stream",
     "text": [
      "['forall', 'x', ['exists', 'y', ['P', 'x', 'y']]]\n"
     ]
    }
   ],
   "source": [
    "fol_formula = ['forall', 'x', ['exists', 'y', ['P', 'x', 'y']]]\n",
    "standardized_fol = standardizeVariables(fol_formula)\n",
    "print(standardized_fol)"
   ]
  },
  {
   "cell_type": "markdown",
   "metadata": {},
   "source": [
    "### Step-2: Eliminating the Implication"
   ]
  },
  {
   "cell_type": "markdown",
   "metadata": {},
   "source": [
    "Helper Function that takes an implication (i.e. the first element should be 'implies') and returns its equivalent form"
   ]
  },
  {
   "cell_type": "code",
   "execution_count": 70,
   "metadata": {},
   "outputs": [],
   "source": [
    "def eliminateImplication(logic):\n",
    "    \n",
    "    result = []\n",
    "    result.append('or')\n",
    "    result.append(['not', logic[1]])\n",
    "    result.append(logic[2])\n",
    "    \n",
    "    return result"
   ]
  },
  {
   "cell_type": "markdown",
   "metadata": {},
   "source": [
    "Helper function that takes an equivalence (i.e. the first element should be 'iff') and returns its equivalent form"
   ]
  },
  {
   "cell_type": "code",
   "execution_count": 71,
   "metadata": {},
   "outputs": [],
   "source": [
    "def eliminateIFF(logic):\n",
    "    \n",
    "    result = []\n",
    "    result.append('and')\n",
    "    result.append(eliminateImplication(['implies', logic[1], logic[2]]))\n",
    "    result.append(eliminateImplication(['implies', logic[2], logic[1]]))\n",
    "    \n",
    "    return result"
   ]
  },
  {
   "cell_type": "markdown",
   "metadata": {},
   "source": [
    "Function that takes a sentence in FOL and return its equivalent form free of implications and equivalences"
   ]
  },
  {
   "cell_type": "code",
   "execution_count": 72,
   "metadata": {},
   "outputs": [],
   "source": [
    "def parseImplications(logic):\n",
    "    # If it is an iff statement, replace logic with the one we get by eliminating iffs\n",
    "    if logic[0] == 'iff' and len(logic) == 3:\n",
    "        logic = eliminateIFF(logic)\n",
    "    #If it is an implies statement, replace logic with the one we get by eliminating implies\n",
    "    if logic[0] == 'implies' and len(logic) == 3:\n",
    "        logic = eliminateImplication(logic)\n",
    "    \n",
    "    #For all the attributes in the logic repeat the process recursively\n",
    "    for i in range(1, len(logic)):\n",
    "        # print(logic[i])\n",
    "        if len(logic[i]) > 1:\n",
    "            logic[i] = parseImplications(logic[i])\n",
    "\n",
    "    return logic"
   ]
  },
  {
   "cell_type": "markdown",
   "metadata": {},
   "source": [
    "#### Test Cases"
   ]
  },
  {
   "cell_type": "markdown",
   "metadata": {},
   "source": [
    "eliminateImplication"
   ]
  },
  {
   "cell_type": "code",
   "execution_count": 73,
   "metadata": {},
   "outputs": [
    {
     "name": "stdout",
     "output_type": "stream",
     "text": [
      "['or', ['not', ['and', 'A', 'B']], 'C']\n"
     ]
    }
   ],
   "source": [
    "logic = ['implies', ['and', 'A', 'B'], 'C'] # (A ∧ B) ⊃ C\n",
    "print(eliminateImplication(logic)) # ¬(A ∧ B) ∨ C"
   ]
  },
  {
   "cell_type": "markdown",
   "metadata": {},
   "source": [
    "eliminateIFF"
   ]
  },
  {
   "cell_type": "code",
   "execution_count": 74,
   "metadata": {},
   "outputs": [
    {
     "name": "stdout",
     "output_type": "stream",
     "text": [
      "['and', ['or', ['not', ['and', 'A', 'B']], 'C'], ['or', ['not', 'C'], ['and', 'A', 'B']]]\n"
     ]
    }
   ],
   "source": [
    "logic = ['iff', ['and', 'A', 'B'], 'C'] # (A ∧ B) ↔ C\n",
    "print(eliminateIFF(logic))"
   ]
  },
  {
   "cell_type": "markdown",
   "metadata": {},
   "source": [
    "parseImplications"
   ]
  },
  {
   "cell_type": "code",
   "execution_count": 75,
   "metadata": {},
   "outputs": [
    {
     "name": "stdout",
     "output_type": "stream",
     "text": [
      "['or', 'D', ['or', ['not', ['and', 'A', 'B']], 'C']]\n"
     ]
    }
   ],
   "source": [
    "logic = ['or', 'D', ['implies', ['and', 'A', 'B'], 'C']]\n",
    "print(parseImplications(logic))"
   ]
  },
  {
   "cell_type": "code",
   "execution_count": 76,
   "metadata": {},
   "outputs": [
    {
     "name": "stdout",
     "output_type": "stream",
     "text": [
      "['or', ['not', ['or', ['not', 'A'], 'B']], 'C']\n"
     ]
    }
   ],
   "source": [
    "logic = ['implies', ['implies', 'A', 'B'], 'C']\n",
    "print(parseImplications(logic))"
   ]
  },
  {
   "cell_type": "markdown",
   "metadata": {},
   "source": [
    "### Step-3: Propagate negation inwards"
   ]
  },
  {
   "cell_type": "markdown",
   "metadata": {},
   "source": [
    "Helper function that takes a negation (i.e. the first element should be 'not') and returns its equivalent form"
   ]
  },
  {
   "cell_type": "code",
   "execution_count": 77,
   "metadata": {},
   "outputs": [],
   "source": [
    "def propagateNOT(logic):\n",
    "    result = []\n",
    "\n",
    "    #Checking if the inward logic is OR then append AND\n",
    "    if logic[1][0] == 'or':\n",
    "        result.append('and')\n",
    "    #Chicking if inward logic is AND then append OR\n",
    "    elif logic[1][0] == 'and':\n",
    "        result.append('or')\n",
    "    #Checking if inward logic is NOT then return the logic alone\n",
    "    elif logic[1][0] == 'not':\n",
    "        return logic[1][1]\n",
    "    # Checking if the logic is an universal quantifier (∀) then convert to existential (∃) with NOT\n",
    "    elif logic[1][0] == 'forall':\n",
    "        # Create a negated existential quantifier with the same variable and expression\n",
    "        return ['exists', logic[1][1], propagateNOT(['not', logic[1][2]])]\n",
    "    # Checking if the logic is an existential quantifier (∃) then convert to universal (∀) with NOT\n",
    "    elif logic[1][0] == 'exists':\n",
    "        # Create a negated universal quantifier with the same variable and expression\n",
    "        return ['forall', logic[1][1], propagateNOT(['not', logic[1][2]])]\n",
    "    else:\n",
    "        return logic\n",
    "        \n",
    "    #For all arguments of the inner list\n",
    "    for i in range(1, len(logic[1])):\n",
    "        #check if the first argument is another list\n",
    "        if len(logic[1][i]) != 1:\n",
    "            #recursively call to propogate not further inwards\n",
    "            result.append(propagateNOT(['not', logic[1][i]]))\n",
    "        else:\n",
    "            #else append the negation of the single element\n",
    "            result.append(['not', logic[1][i]])\n",
    "     \n",
    "    return result"
   ]
  },
  {
   "cell_type": "markdown",
   "metadata": {},
   "source": [
    "Function that takes an sentence in FOL and pushes the negation(if any) to the atomic level"
   ]
  },
  {
   "cell_type": "code",
   "execution_count": 78,
   "metadata": {},
   "outputs": [],
   "source": [
    "def parseNOTs(logic):\n",
    "    \n",
    "    #If it is a NOT statement, replace logic with the one we get by propogating not inwards\n",
    "    if logic[0] == 'not' and len(logic) == 2 and len(logic[1]) != 1:\n",
    "        logic = propagateNOT(logic)\n",
    "    \n",
    "    #For all the attributes in the logic repeat the process recursively\n",
    "    for i in range(1, len(logic)):\n",
    "        if len(logic[i]) > 1:\n",
    "            logic[i] = parseNOTs(logic[i])\n",
    "    \n",
    "    #return the final logic statement with NOT propogated inwards\n",
    "    return logic"
   ]
  },
  {
   "cell_type": "markdown",
   "metadata": {},
   "source": [
    "#### Test Cases"
   ]
  },
  {
   "cell_type": "markdown",
   "metadata": {},
   "source": [
    "propagateNOT"
   ]
  },
  {
   "cell_type": "code",
   "execution_count": 79,
   "metadata": {},
   "outputs": [
    {
     "name": "stdout",
     "output_type": "stream",
     "text": [
      "['not', ['P', 'x', 'y']]\n"
     ]
    }
   ],
   "source": [
    "logic = ['not', ['P', 'x', 'y']]\n",
    "print(propagateNOT(logic))"
   ]
  },
  {
   "cell_type": "code",
   "execution_count": 80,
   "metadata": {},
   "outputs": [
    {
     "name": "stdout",
     "output_type": "stream",
     "text": [
      "['or', ['not', 'A'], ['not', 'B']]\n"
     ]
    }
   ],
   "source": [
    "logic = ['not', ['and', 'A', 'B']]\n",
    "print(propagateNOT(logic))"
   ]
  },
  {
   "cell_type": "code",
   "execution_count": 81,
   "metadata": {},
   "outputs": [
    {
     "name": "stdout",
     "output_type": "stream",
     "text": [
      "['exists', 'x', ['not', ['P', ['f', 'x']]]]\n"
     ]
    }
   ],
   "source": [
    "logic = ['not', ['forall', 'x', ['P', ['f', 'x']]]]\n",
    "print(propagateNOT(logic))"
   ]
  },
  {
   "cell_type": "code",
   "execution_count": 82,
   "metadata": {},
   "outputs": [
    {
     "name": "stdout",
     "output_type": "stream",
     "text": [
      "['exists', 'x', ['not', ['P', 'x', 'y']]]\n"
     ]
    }
   ],
   "source": [
    "logic = ['not', ['forall', 'x', ['P', 'x', 'y']]]\n",
    "print(propagateNOT(logic))"
   ]
  },
  {
   "cell_type": "markdown",
   "metadata": {},
   "source": [
    "parseNOTs"
   ]
  },
  {
   "cell_type": "code",
   "execution_count": 83,
   "metadata": {},
   "outputs": [
    {
     "name": "stdout",
     "output_type": "stream",
     "text": [
      "['or', ['and', ['P', 'x'], ['not', ['P', 'y']]], ['P', 'z']]\n"
     ]
    }
   ],
   "source": [
    "logic = ['or', ['not', ['or', ['not', ['P', 'x']], ['P', 'y']]], ['P', 'z']]\n",
    "print(parseNOTs(logic))"
   ]
  },
  {
   "cell_type": "markdown",
   "metadata": {},
   "source": [
    "### Step-4: Eliminating the Existential Quantifier (Skolemization)"
   ]
  },
  {
   "cell_type": "markdown",
   "metadata": {},
   "source": [
    "For skolemconstants, we will use the format skc0, skc1, skc2, ...\n",
    "\n",
    "For skolemfunctions, we will use the format skf0, skf1, skf2, ...\n",
    "\n",
    "Note: ∀x(∃y(P(x,y))) after skolemization is ∀x(P(x, skf0(x)))\n",
    "\n",
    "Note: Running the same function (without re-running the function def) again on the output of the previous function will give ∀x(P(x, skf1(x)))"
   ]
  },
  {
   "cell_type": "code",
   "execution_count": 84,
   "metadata": {},
   "outputs": [],
   "source": [
    "def skolemize(fol, universal_vars=[], skolem_counter={'constants': 0, 'functions': 0}):\n",
    "    if fol[0] == 'forall':\n",
    "        # Process the formula within the scope of the universal quantifier, adding the variable to the scope\n",
    "        return ['forall', fol[1]] + [skolemize(fol[2], universal_vars + [fol[1]], skolem_counter)]\n",
    "    elif fol[0] == 'exists':\n",
    "        if len(universal_vars) == 0:\n",
    "            # Replace with a Skolem constant if no universal variables are in scope\n",
    "            skc = f'skc{skolem_counter[\"constants\"]}'\n",
    "            skolem_counter[\"constants\"] += 1\n",
    "            # Replace the existential variable with the Skolem constant in the predicate\n",
    "            return replace_variable(fol[2], fol[1], skc)\n",
    "        else:\n",
    "            # Replace with a Skolem function if universal variables are in scope\n",
    "            skf = f'skf{skolem_counter[\"functions\"]}(' + ','.join(universal_vars) + ')'\n",
    "            skolem_counter[\"functions\"] += 1\n",
    "            return replace_variable(fol[2], fol[1], skf)\n",
    "    elif isinstance(fol, list):\n",
    "        # Recursively process each element of the list if it's a complex expression\n",
    "        return [skolemize(part, universal_vars, skolem_counter) for part in fol]\n",
    "    else:\n",
    "        # Return the element unchanged if it's not a quantifier expression\n",
    "        return fol\n",
    "\n",
    "def replace_variable(expr, var, replacement):\n",
    "    if isinstance(expr, str):\n",
    "        # If the expression is a string, replace the variable if it matches\n",
    "        return expr.replace(var, replacement)\n",
    "    elif isinstance(expr, list):\n",
    "        # If the expression is a list, recursively replace in each element\n",
    "        return [replace_variable(part, var, replacement) for part in expr]\n",
    "    else:\n",
    "        # Return the expression unchanged if it's neither a string nor a list\n",
    "        return expr"
   ]
  },
  {
   "cell_type": "markdown",
   "metadata": {},
   "source": [
    "#### Test Cases"
   ]
  },
  {
   "cell_type": "code",
   "execution_count": 85,
   "metadata": {},
   "outputs": [
    {
     "name": "stdout",
     "output_type": "stream",
     "text": [
      "['forall', 'x', ['P', 'x', ['f', 'skf0(x)']]]\n"
     ]
    }
   ],
   "source": [
    "fol_formula = ['forall', 'x', ['exists', 'y', ['P', 'x', ['f', 'y']]]]\n",
    "skolemized_formula = skolemize(fol_formula)\n",
    "print(skolemized_formula)"
   ]
  },
  {
   "cell_type": "code",
   "execution_count": 86,
   "metadata": {},
   "outputs": [
    {
     "name": "stdout",
     "output_type": "stream",
     "text": [
      "['forall', 'x', ['P', 'x', 'skf1(x)']]\n"
     ]
    }
   ],
   "source": [
    "fol_formula = ['forall', 'x', ['exists', 'y', ['P', 'x', 'y']]]\n",
    "skolemized_formula = skolemize(fol_formula)\n",
    "print(skolemized_formula)"
   ]
  },
  {
   "cell_type": "markdown",
   "metadata": {},
   "source": [
    "### Step-5: Removing the Universal Quantifier"
   ]
  },
  {
   "cell_type": "code",
   "execution_count": 87,
   "metadata": {},
   "outputs": [],
   "source": [
    "def remove_universal_quantifiers(fol, variables=None):\n",
    "    if variables is None:\n",
    "        variables = set()  # Initialize with an empty set for the first call\n",
    "\n",
    "    if not fol or not isinstance(fol, list):\n",
    "        return fol, variables  # Return as is if fol is not a list or is empty\n",
    "    \n",
    "    if fol[0] == 'forall':\n",
    "        variables.add(fol[1])  # Add the variable to the set\n",
    "        # Process the child while passing the variables set for collection\n",
    "        modified_child, variables = remove_universal_quantifiers(fol[2], variables)\n",
    "        return modified_child, variables\n",
    "    else:\n",
    "        # Initialize an empty list for the processed elements\n",
    "        processed_elements = []\n",
    "        # Recursively process each element in the list for nested structures\n",
    "        for element in fol:\n",
    "            processed_element, vars_from_element = remove_universal_quantifiers(element, variables)\n",
    "            variables.update(vars_from_element)  # Merge variables from the current element\n",
    "            processed_elements.append(processed_element)\n",
    "        return processed_elements, variables"
   ]
  },
  {
   "cell_type": "markdown",
   "metadata": {},
   "source": [
    "#### Test Cases"
   ]
  },
  {
   "cell_type": "code",
   "execution_count": 88,
   "metadata": {},
   "outputs": [
    {
     "name": "stdout",
     "output_type": "stream",
     "text": [
      "['and', ['or', 'A', 'B'], ['P', 'x', 'y']]\n",
      "Variables: {'y', 'x'}\n"
     ]
    }
   ],
   "source": [
    "fol_formula = ['forall', 'x', ['and', ['or', 'A', 'B'], ['forall', 'y', ['P', 'x', 'y']]]]\n",
    "modified_formula, variables = remove_universal_quantifiers(fol_formula)\n",
    "print(modified_formula)\n",
    "print(\"Variables:\", variables)"
   ]
  },
  {
   "cell_type": "markdown",
   "metadata": {},
   "source": [
    "### Step-6: Distributing union over intersection"
   ]
  },
  {
   "cell_type": "code",
   "execution_count": 89,
   "metadata": {},
   "outputs": [],
   "source": [
    "def isDistributionCandidate(logic):\n",
    "    return logic[0] == 'or' and any(logic[i][0] == 'and' for i in range(1, len(logic)))\n",
    "\n",
    "def distributeOR(logic):\n",
    "    result = ['and']\n",
    "    # Handle distribution for both operands being 'and'.\n",
    "    if logic[1][0] == 'and' and logic[2][0] == 'and':\n",
    "        for i in logic[1][1:]:\n",
    "            for j in logic[2][1:]:\n",
    "                result.append(['or', i, j])\n",
    "    # Handle distribution when only one operand is 'and'.\n",
    "    else:\n",
    "        and_operand = logic[1] if logic[1][0] == 'and' else logic[2]\n",
    "        other_operand = logic[2] if logic[1][0] == 'and' else logic[1]\n",
    "        for i in and_operand[1:]:\n",
    "            result.append(['or', i, other_operand])\n",
    "    return result\n",
    "\n",
    "def parseDistribution(logic):\n",
    "    if isDistributionCandidate(logic):\n",
    "        logic = distributeOR(logic)\n",
    "    for i in range(1, len(logic)):\n",
    "        if isinstance(logic[i], list) and len(logic[i]) > 1:\n",
    "            logic[i] = parseDistribution(logic[i])\n",
    "    return logic"
   ]
  },
  {
   "cell_type": "markdown",
   "metadata": {},
   "source": [
    "#### Test Cases"
   ]
  },
  {
   "cell_type": "code",
   "execution_count": 90,
   "metadata": {},
   "outputs": [
    {
     "name": "stdout",
     "output_type": "stream",
     "text": [
      "['and', ['or', ['G', 'x', 'y'], ['P', 'x', 'y', 'z']], ['or', ['H', 'z'], ['P', 'x', 'y', 'z']]]\n"
     ]
    }
   ],
   "source": [
    "logic = ['or', ['and', ['G', 'x', 'y'], ['H', 'z']], ['P', 'x', 'y', 'z']]\n",
    "print(parseDistribution(logic))"
   ]
  },
  {
   "cell_type": "markdown",
   "metadata": {},
   "source": [
    "### Step-7: Eliminating the conjunctions and getting the Clauses"
   ]
  },
  {
   "cell_type": "code",
   "execution_count": 91,
   "metadata": {},
   "outputs": [],
   "source": [
    "def extract_clauses(cnf_formula):\n",
    "    # Base case\n",
    "    if len(cnf_formula) == 1:\n",
    "        return cnf_formula  # Return a single literal in a clause\n",
    "    \n",
    "    operator, *operands = cnf_formula\n",
    "    \n",
    "    # If the top-level operator is 'and', recursively extract clauses from operands.\n",
    "    if operator == 'and':\n",
    "        clauses = []\n",
    "        for operand in operands:\n",
    "            clauses.extend(extract_clauses(operand))  # Combine clauses from all 'and' operands\n",
    "        return clauses\n",
    "    \n",
    "    # If the top-level operator is 'or', the whole formula is a single clause.\n",
    "    elif operator == 'or':\n",
    "        # Recursively flatten the 'or' structure into a single clause\n",
    "        return [flatten_or(operands)]\n",
    "    \n",
    "    # If the formula does not start with 'and' or 'or', treat it as a single literal clause.\n",
    "    else:\n",
    "        return [[cnf_formula]]\n",
    "\n",
    "def flatten_or(operands):\n",
    "    flattened_clause = []\n",
    "    for operand in operands:\n",
    "        if isinstance(operand, list) and operand[0] == 'or':\n",
    "            # If the operand is an 'or', recursively flatten and extend the clause\n",
    "            flattened_clause.extend(flatten_or(operand[1:]))\n",
    "        else:\n",
    "            # Otherwise, add the operand (literal or sub-clause) directly to the clause\n",
    "            flattened_clause.append(operand)\n",
    "    return flattened_clause"
   ]
  },
  {
   "cell_type": "markdown",
   "metadata": {},
   "source": [
    "#### Test Cases"
   ]
  },
  {
   "cell_type": "code",
   "execution_count": 92,
   "metadata": {},
   "outputs": [
    {
     "name": "stdout",
     "output_type": "stream",
     "text": [
      "[[['P', 'x', 'y'], ['Q', 'z']], [['R', 'x'], ['S', 'y']]]\n"
     ]
    }
   ],
   "source": [
    "cnf_formula = ['and', ['or', ['P', 'x', 'y'], ['Q', 'z']], ['or', ['R', 'x'], ['S', 'y']]]\n",
    "clauses = extract_clauses(cnf_formula)\n",
    "print(clauses)"
   ]
  },
  {
   "cell_type": "code",
   "execution_count": 93,
   "metadata": {},
   "outputs": [
    {
     "name": "stdout",
     "output_type": "stream",
     "text": [
      "[['P', 'x']]\n"
     ]
    }
   ],
   "source": [
    "cnf_formula = [['P', 'x']]\n",
    "clauses = extract_clauses(cnf_formula)\n",
    "print(clauses)"
   ]
  },
  {
   "cell_type": "markdown",
   "metadata": {},
   "source": [
    "### Step-8: Renaming the variables for unique variables in each clause"
   ]
  },
  {
   "cell_type": "code",
   "execution_count": 94,
   "metadata": {},
   "outputs": [],
   "source": [
    "def rename_variables(clauses, variables):\n",
    "    global_occurrences = {var: 0 for var in variables}\n",
    "    renamed_clauses = []\n",
    "\n",
    "    for clause in clauses:\n",
    "        current_occurrences = {var: 0 for var in variables}\n",
    "        renamed_clause = []  # For current clause\n",
    "        \n",
    "        def rename_var(var):\n",
    "            # Helper function to rename a variable based on global and current occurrences.\n",
    "            if var.startswith('skf'):\n",
    "                # extract the variable name from the skolem function\n",
    "                var_t = var[var.index('(') + 1 : var.index(')')]\n",
    "                var_t = var_t.split(',')\n",
    "                for v in range(len(var_t)):\n",
    "                    if var_t[v] in variables:\n",
    "                        if current_occurrences[var_t[v]] == 0:\n",
    "                            global_occurrences[var_t[v]] += 1\n",
    "                        current_occurrences[var_t[v]] += 1\n",
    "                        \n",
    "                        if global_occurrences[var_t[v]] > 1:\n",
    "                            var_t[v] = f\"{var_t[v]}_{global_occurrences[var_t[v]] - 1}\"\n",
    "                new_var = var[:var.index('(') + 1] + ','.join(var_t) + ')'\n",
    "                return new_var\n",
    "            \n",
    "            if var in variables:\n",
    "                if current_occurrences[var] == 0:\n",
    "                    global_occurrences[var] += 1\n",
    "                current_occurrences[var] += 1\n",
    "                \n",
    "                if global_occurrences[var] > 1:\n",
    "                    return f\"{var}_{global_occurrences[var] - 1}\"\n",
    "                return var\n",
    "            return var\n",
    "\n",
    "        def rename_var_list(var_list):\n",
    "            # Helper function\n",
    "            return [rename_var(var) if isinstance(var, str) else rename_var_list(var) for var in var_list]\n",
    "        \n",
    "        for element in clause:\n",
    "            if isinstance(element, list):\n",
    "                predicate = element[0]\n",
    "                args = element[1:]\n",
    "\n",
    "                renamed_args = []\n",
    "                for arg in args:\n",
    "                    if isinstance(arg, list):  # Possible nested function or predicate\n",
    "                        # Process nested function recursively\n",
    "                        renamed_args.append([arg[0]] + [rename_var(a) if isinstance(a, str) else rename_var_list(a) for a in arg[1:]])\n",
    "                    else:\n",
    "                        renamed_args.append(rename_var(arg))\n",
    "\n",
    "                if predicate == 'not':\n",
    "                    renamed_clause.append([predicate, renamed_args[0]])\n",
    "                else:\n",
    "                    renamed_clause.append([predicate] + renamed_args)\n",
    "            else:\n",
    "                renamed_clause.append(element)\n",
    "\n",
    "        renamed_clauses.append(renamed_clause)\n",
    "\n",
    "    return renamed_clauses"
   ]
  },
  {
   "cell_type": "markdown",
   "metadata": {},
   "source": [
    "#### Test Cases"
   ]
  },
  {
   "cell_type": "code",
   "execution_count": 95,
   "metadata": {},
   "outputs": [
    {
     "name": "stdout",
     "output_type": "stream",
     "text": [
      "[[['G', 'John']], [['not', ['P', 'x']], ['Q', 'y'], ['R', 'x', 'y']], [['not', ['P', 'x_1']]]]\n"
     ]
    }
   ],
   "source": [
    "clauses = [[['G', 'John']], [['not', ['P', 'x']], ['Q', 'y'], ['R', 'x', 'y']], [['not', ['P', 'x']]]]\n",
    "variables = ['x', 'y', 'z']\n",
    "renamed_clauses = rename_variables(clauses, variables)\n",
    "print(renamed_clauses)"
   ]
  },
  {
   "cell_type": "code",
   "execution_count": 96,
   "metadata": {},
   "outputs": [
    {
     "name": "stdout",
     "output_type": "stream",
     "text": [
      "[[['G', 'John'], ['P', 'skc15']], [['G', 'John'], ['G', 'John']], [['not', ['P', 'x']], ['G', 'John'], ['P', 'skc15']], [['not', ['P', 'x_1']], ['G', 'John'], ['G', 'John']]]\n"
     ]
    }
   ],
   "source": [
    "clauses = [[['G', 'John'], ['P', 'skc15']], [['G', 'John'], ['G', 'John']], [['not', ['P', 'x']], ['G', 'John'], ['P', 'skc15']], [['not', ['P', 'x']], ['G', 'John'], ['G', 'John']]]\n",
    "variables = ['x']\n",
    "renamed_clauses = rename_variables(clauses, variables)\n",
    "print(renamed_clauses)"
   ]
  },
  {
   "cell_type": "markdown",
   "metadata": {},
   "source": [
    "### Removing Duplicates"
   ]
  },
  {
   "cell_type": "code",
   "execution_count": 97,
   "metadata": {},
   "outputs": [],
   "source": [
    "def remove_duplicates(clauses):\n",
    "    def predicates_are_equal(pred1, pred2):\n",
    "        if pred1[0] != pred2[0] or len(pred1) != len(pred2):\n",
    "            return False\n",
    "        return all(arg1 == arg2 for arg1, arg2 in zip(pred1, pred2))\n",
    "\n",
    "    def remove_clause_duplicates(clause):\n",
    "        unique_predicates = []\n",
    "        for predicate in clause:\n",
    "            if all(not predicates_are_equal(predicate, unique_pred) for unique_pred in unique_predicates):\n",
    "                unique_predicates.append(predicate)\n",
    "        return unique_predicates\n",
    "\n",
    "    # Apply the removal of duplicates to each clause\n",
    "    cleaned_clauses = [remove_clause_duplicates(clause) for clause in clauses]\n",
    "    return cleaned_clauses"
   ]
  },
  {
   "cell_type": "markdown",
   "metadata": {},
   "source": [
    "#### Test Cases"
   ]
  },
  {
   "cell_type": "code",
   "execution_count": 98,
   "metadata": {},
   "outputs": [
    {
     "name": "stdout",
     "output_type": "stream",
     "text": [
      "[[['G', 'John'], ['P', 'skc15']], [['G', 'John']], [['not', ['P', 'x']], ['G', 'John'], ['P', 'skc15']], [['not', ['P', 'x']], ['G', 'John']]]\n"
     ]
    }
   ],
   "source": [
    "logic = [[['G', 'John'], ['P', 'skc15']], [['G', 'John'], ['G', 'John']], [['not', ['P', 'x']], ['G', 'John'], ['P', 'skc15']], [['not', ['P', 'x']], ['G', 'John'], ['G', 'John']]]\n",
    "cleaned_logic = remove_duplicates(logic)\n",
    "print(cleaned_logic)"
   ]
  },
  {
   "cell_type": "markdown",
   "metadata": {},
   "source": [
    "### Equality Axioms"
   ]
  },
  {
   "cell_type": "markdown",
   "metadata": {},
   "source": [
    "Helper function that takes clauses and return the predicates and functions along with their arities"
   ]
  },
  {
   "cell_type": "code",
   "execution_count": 99,
   "metadata": {},
   "outputs": [],
   "source": [
    "def get_preds_funcs(clauses):\n",
    "    def get_funcs(function, funcs):\n",
    "        if not isinstance(function, list):\n",
    "            return\n",
    "        else:\n",
    "            funcs[function[0]] = len(function) - 1\n",
    "            for i in range(1, len(function)):\n",
    "                get_funcs(function[i], funcs)\n",
    "    preds = {}\n",
    "    funcs = {}\n",
    "    equals_flag = False\n",
    "    for clause in clauses:\n",
    "        for predicate in clause:\n",
    "            if predicate[0] == 'not' and predicate[1][0] != 'equals':\n",
    "                preds[predicate[1][0]] = len(predicate[1]) - 1\n",
    "                for i in range(1, len(predicate[1])):\n",
    "                    get_funcs(predicate[1][i], funcs)\n",
    "            elif predicate[0] == 'not' or predicate[0] == 'equals':\n",
    "                if predicate[0] == 'not':\n",
    "                    predicate = predicate[1]\n",
    "                equals_flag = True\n",
    "                get_funcs(predicate[1], funcs)\n",
    "                get_funcs(predicate[2], funcs)\n",
    "            else:\n",
    "                preds[predicate[0]] = len(predicate) - 1\n",
    "                for i in range(1, len(predicate)):\n",
    "                    get_funcs(predicate[i], funcs)\n",
    "\n",
    "    return preds, funcs, equals_flag"
   ]
  },
  {
   "cell_type": "markdown",
   "metadata": {},
   "source": [
    "Function that takes the predicates and functions along with their arities(from the helper function) and return the equality axioms"
   ]
  },
  {
   "cell_type": "code",
   "execution_count": 100,
   "metadata": {},
   "outputs": [],
   "source": [
    "def eq_axioms(preds, funcs):\n",
    "    new_clauses = []\n",
    "    # reflexivity\n",
    "    new_clauses.append([['equals', 'x', 'x']])\n",
    "    # symmetry\n",
    "    new_clauses.append([['not', ['equals', 'x', 'y']], ['equals', 'y', 'x']])\n",
    "    # transitivity\n",
    "    new_clauses.append([['not', ['equals', 'x', 'y']], ['not', ['equals', 'y', 'z']], ['equals', 'x', 'z']])\n",
    "    # function equality\n",
    "    for func in funcs:\n",
    "        temp = []\n",
    "        for i in range(funcs[func]):\n",
    "            temp.append(['not', ['equals', 'x' + str(i+1), 'y' + str(i+1)]])\n",
    "        temp.append(['equals', [func] + ['x' + str(i+1) for i in range(funcs[func])], [func] + ['y' + str(i+1) for i in range(funcs[func])]])\n",
    "        new_clauses.append(temp)\n",
    "    # predicate equality\n",
    "    for pred in preds:\n",
    "        temp = []\n",
    "        for i in range(preds[pred]):\n",
    "            temp.append(['not', ['equals', 'x' + str(i+1), 'y' + str(i+1)]])\n",
    "        temp.append(['not', [pred] + ['x' + str(i+1) for i in range(preds[pred])]])\n",
    "        temp.append([pred] + ['y' + str(i+1) for i in range(preds[pred])])\n",
    "        new_clauses.append(temp)\n",
    "\n",
    "    return new_clauses"
   ]
  },
  {
   "cell_type": "markdown",
   "metadata": {},
   "source": [
    "#### Test Cases"
   ]
  },
  {
   "cell_type": "markdown",
   "metadata": {},
   "source": [
    "get_preds_funcs"
   ]
  },
  {
   "cell_type": "code",
   "execution_count": 101,
   "metadata": {},
   "outputs": [
    {
     "name": "stdout",
     "output_type": "stream",
     "text": [
      "{'G': 1}\n",
      "{'h': 2, 'P': 3, 'z': 1, 'w': 3}\n",
      "True\n"
     ]
    }
   ],
   "source": [
    "logic = [[['G', ['h', 'x', 'y']], ['equals', ['P', 'y', 'x', ['z', 'y']], ['w', 'm', 'n', 'k']]]]\n",
    "preds, funcs, equals_flag = get_preds_funcs(logic)\n",
    "print(preds)\n",
    "print(funcs)\n",
    "print(equals_flag)"
   ]
  },
  {
   "cell_type": "markdown",
   "metadata": {},
   "source": [
    "eq_axioms"
   ]
  },
  {
   "cell_type": "code",
   "execution_count": 102,
   "metadata": {},
   "outputs": [
    {
     "name": "stdout",
     "output_type": "stream",
     "text": [
      "[[['equals', 'x', 'x']], [['not', ['equals', 'x', 'y']], ['equals', 'y', 'x']], [['not', ['equals', 'x', 'y']], ['not', ['equals', 'y', 'z']], ['equals', 'x', 'z']], [['not', ['equals', 'x1', 'y1']], ['equals', ['f', 'x1'], ['f', 'y1']]], [['not', ['equals', 'x1', 'y1']], ['not', ['equals', 'x2', 'y2']], ['not', ['P', 'x1', 'x2']], ['P', 'y1', 'y2']], [['not', ['equals', 'x1', 'y1']], ['not', ['Q', 'x1']], ['Q', 'y1']]]\n"
     ]
    }
   ],
   "source": [
    "preds = {'P': 2, 'Q': 1}\n",
    "funcs = {'f': 1}\n",
    "clauses = eq_axioms(preds, funcs)\n",
    "print(clauses)"
   ]
  },
  {
   "cell_type": "markdown",
   "metadata": {},
   "source": [
    "### Combining Steps"
   ]
  },
  {
   "cell_type": "code",
   "execution_count": 103,
   "metadata": {},
   "outputs": [],
   "source": [
    "def parseLogic(logic):\n",
    "    #For Empty logic\n",
    "    if len(logic) == 0:\n",
    "        return []\n",
    "    #For logic with one Literal\n",
    "    if len(logic) == 1:\n",
    "        return logic\n",
    "    \n",
    "    result = standardizeVariables(logic)\n",
    "    result = parseImplications(logic)\n",
    "    result = parseNOTs(result)\n",
    "    result = skolemize(result)\n",
    "    result, variables = remove_universal_quantifiers(result)\n",
    "    result = parseDistribution(result)\n",
    "    result = extract_clauses(result)\n",
    "    # result = rename_variables(result, list(variables))\n",
    "    # result = remove_duplicates(result)\n",
    "    \n",
    "    return result, variables"
   ]
  },
  {
   "cell_type": "markdown",
   "metadata": {},
   "source": [
    "#### Test Cases"
   ]
  },
  {
   "cell_type": "code",
   "execution_count": 104,
   "metadata": {},
   "outputs": [
    {
     "name": "stdout",
     "output_type": "stream",
     "text": [
      "([[['G', 'john'], ['P', 'skc0']], [['G', 'john'], ['G', 'john']], [['not', ['P', 'x']], ['G', 'john'], ['P', 'skc0']], [['not', ['P', 'x']], ['G', 'john'], ['G', 'john']]], {'x'})\n"
     ]
    }
   ],
   "source": [
    "logic = ['or', ['and', ['G', 'john'], ['forall', 'x', ['implies', ['P', 'x'], ['G', 'john']]]], ['exists', 'y', ['and', ['P', 'y'], ['G', 'john']]]]\n",
    "print(parseLogic(logic))"
   ]
  },
  {
   "cell_type": "markdown",
   "metadata": {},
   "source": [
    "### Reading Input from File"
   ]
  },
  {
   "cell_type": "code",
   "execution_count": 105,
   "metadata": {},
   "outputs": [],
   "source": [
    "def read_file(file_name):\n",
    "    formula = ''\n",
    "\n",
    "    try:\n",
    "        with open(file_name, 'r', encoding = 'utf-8') as file:\n",
    "            formula = str(file.read().strip())  # Read the content and strip any leading/trailing whitespace\n",
    "    except FileNotFoundError:\n",
    "        print(f\"The file {file_name} was not found.\")\n",
    "\n",
    "    formulas = formula.split(\"\\n\")\n",
    "    # print(formulas)\n",
    "    return formulas"
   ]
  },
  {
   "cell_type": "markdown",
   "metadata": {},
   "source": [
    "#### Test Cases"
   ]
  },
  {
   "cell_type": "code",
   "execution_count": 106,
   "metadata": {},
   "outputs": [
    {
     "name": "stdout",
     "output_type": "stream",
     "text": [
      "([[['G', 'John'], ['P', 'skc1']], [['G', 'John'], ['G', 'John']], [['not', ['P', 'x']], ['G', 'John'], ['P', 'skc1']], [['not', ['P', 'x']], ['G', 'John'], ['G', 'John']]], {'x'})\n",
      "([[['J', 'x', 'Pop']]], {'x'})\n",
      "([[['equals', ['F', 'Pop'], 'C']]], set())\n"
     ]
    }
   ],
   "source": [
    "formulas = read_file('formula.txt')\n",
    "for formula in formulas:\n",
    "    logic = parse_logical_expression(formula)\n",
    "    result = parseLogic(logic)\n",
    "    print(result)"
   ]
  },
  {
   "cell_type": "markdown",
   "metadata": {},
   "source": [
    "### Converting List Form to Operator Form"
   ]
  },
  {
   "cell_type": "code",
   "execution_count": 107,
   "metadata": {},
   "outputs": [],
   "source": [
    "def logical_expression(clauses):\n",
    "    processed_clauses = []\n",
    "\n",
    "    def format_expression(exp):\n",
    "        # Handle negation\n",
    "        if exp[0] == 'not':\n",
    "            inner_exp = format_expression(exp[1])\n",
    "            if '=' in inner_exp:\n",
    "                # Wrap the inner expression in parentheses if it contains an equals sign\n",
    "                return f'¬({inner_exp})'\n",
    "            return f'¬{inner_exp}'\n",
    "        # Handle equals\n",
    "        elif exp[0] == 'equals':\n",
    "            left_side = format_literal(exp[1])\n",
    "            right_side = format_literal(exp[2])\n",
    "            return f'{left_side} = {right_side}'\n",
    "        # Handle function calls and literals\n",
    "        else:\n",
    "            return format_literal(exp)\n",
    "\n",
    "    def format_literal(literal):\n",
    "        if isinstance(literal, list):\n",
    "            if len(literal) > 1:\n",
    "                formatted_expression = literal[0] + \"(\" + \", \".join(map(format_literal, literal[1:])) + \")\"\n",
    "                return formatted_expression\n",
    "            else:\n",
    "                return literal[0]  # Single-element list, treated as a simple literal\n",
    "        else:\n",
    "            return literal  # Simple string literal\n",
    "\n",
    "    for clause in clauses:\n",
    "        temp = \" ∨ \".join(format_expression(literal) for literal in clause)\n",
    "        processed_clauses.append(temp)\n",
    "\n",
    "    return processed_clauses"
   ]
  },
  {
   "cell_type": "markdown",
   "metadata": {},
   "source": [
    "#### Test Cases"
   ]
  },
  {
   "cell_type": "code",
   "execution_count": 108,
   "metadata": {},
   "outputs": [
    {
     "name": "stdout",
     "output_type": "stream",
     "text": [
      "G(John) ∨ P(skc9)\n",
      "G(John) ∨ G(John)\n",
      "¬P(x) ∨ G(John) ∨ P(skc9)\n",
      "¬P(x) ∨ G(John) ∨ G(John)\n"
     ]
    }
   ],
   "source": [
    "logic = [[['G', 'John'], ['P', 'skc9']], [['G', 'John'], ['G', 'John']], [['not', ['P', 'x']], ['G', 'John'], ['P', 'skc9']], [['not', ['P', 'x']], ['G', 'John'], ['G', 'John']]]\n",
    "logical_exp = logical_expression(logic)\n",
    "for clause in logical_exp:\n",
    "    print(clause)"
   ]
  },
  {
   "cell_type": "code",
   "execution_count": 109,
   "metadata": {},
   "outputs": [
    {
     "name": "stdout",
     "output_type": "stream",
     "text": [
      "¬P(x) ∨ Q(y)\n"
     ]
    }
   ],
   "source": [
    "clauses = [[['not', ['P', 'x']], ['Q', 'y']]]\n",
    "logical_exp = logical_expression(clauses)\n",
    "for clause in logical_exp:\n",
    "    print(clause)"
   ]
  },
  {
   "cell_type": "code",
   "execution_count": 110,
   "metadata": {},
   "outputs": [
    {
     "name": "stdout",
     "output_type": "stream",
     "text": [
      "p(x) = q(x)\n"
     ]
    }
   ],
   "source": [
    "clauses = [[['equals', ['p', 'x'], ['q', 'x']]]]\n",
    "logical_exp = logical_expression(clauses)\n",
    "for clause in logical_exp:\n",
    "    print(clause)"
   ]
  },
  {
   "cell_type": "markdown",
   "metadata": {},
   "source": [
    "### Main Function"
   ]
  },
  {
   "cell_type": "code",
   "execution_count": 120,
   "metadata": {},
   "outputs": [],
   "source": [
    "def main(file_path):\n",
    "    formulas = read_file(file_path)\n",
    "    clauses = []\n",
    "    variables = []\n",
    "    for formula in formulas:\n",
    "        logic = parse_logical_expression(formula)\n",
    "        result, var = parseLogic(logic)\n",
    "        # print(result)\n",
    "        clauses.extend(result)\n",
    "        variables.extend(var)\n",
    "    preds, funcs, equals_flag = get_preds_funcs(clauses)\n",
    "    if not funcs:\n",
    "        max_num = max(preds.values())\n",
    "    else:\n",
    "        max_num = max(max(preds.values()), max(funcs.values()))\n",
    "    variables.append('x')\n",
    "    variables.append('y')\n",
    "    for i in range(1, max_num + 1):\n",
    "        variables.append('x' + str(i))\n",
    "        variables.append('y' + str(i))\n",
    "    if equals_flag:\n",
    "        clauses.extend(eq_axioms(preds, funcs))\n",
    "    result = rename_variables(clauses, list(set(variables)))\n",
    "    result = remove_duplicates(result)\n",
    "    logical_exp = logical_expression(result)\n",
    "    for clause in logical_exp:\n",
    "        print(clause)\n",
    "    return logical_exp, variables"
   ]
  },
  {
   "cell_type": "markdown",
   "metadata": {},
   "source": [
    "Note: The main function extracts all the clauses from the given input formulas and then renames and removes duplicates from the clauses"
   ]
  },
  {
   "cell_type": "code",
   "execution_count": 112,
   "metadata": {},
   "outputs": [
    {
     "name": "stdout",
     "output_type": "stream",
     "text": [
      "G(John) ∨ P(skc2)\n",
      "G(John)\n",
      "¬P(x) ∨ G(John) ∨ P(skc2)\n",
      "¬P(x_1) ∨ G(John)\n",
      "J(x_2, Pop)\n",
      "F(Pop) = C\n",
      "x_3 = x_3\n",
      "¬(x_4 = y) ∨ y = x_4\n",
      "¬(x_5 = y_1) ∨ ¬(y_1 = z) ∨ x_5 = z\n",
      "¬(x1 = y1) ∨ F(x1) = F(y1)\n",
      "¬(x1_1 = y1_1) ∨ ¬G(x1_1) ∨ G(y1_1)\n",
      "¬(x1_2 = y1_2) ∨ ¬P(x1_2) ∨ P(y1_2)\n",
      "¬(x1_3 = y1_3) ∨ ¬(x2 = y2) ∨ ¬J(x1_3, x2) ∨ J(y1_3, y2)\n"
     ]
    }
   ],
   "source": [
    "clauses, variables = main('formula.txt')"
   ]
  },
  {
   "cell_type": "code",
   "execution_count": 113,
   "metadata": {},
   "outputs": [
    {
     "name": "stdout",
     "output_type": "stream",
     "text": [
      "¬M(x) ∨ N(x)\n",
      "P(x_1, skf2(x_1)) ∨ ¬R(x_1)\n",
      "Q(skf2(x_2)) ∨ ¬R(x_2)\n",
      "¬S(f(h(x_3)))\n",
      "T(f(x_4)) ∨ U(x_4)\n",
      "P(z)\n",
      "f(z_1) = g(z_1)\n",
      "¬(a = b) ∨ V(a)\n",
      "x_5 = x_5\n",
      "¬(x_6 = y) ∨ y = x_6\n",
      "¬(x_7 = y_1) ∨ ¬(y_1 = z_2) ∨ x_7 = z_2\n",
      "¬(x1 = y1) ∨ f(x1) = f(y1)\n",
      "¬(x1_1 = y1_1) ∨ h(x1_1) = h(y1_1)\n",
      "¬(x1_2 = y1_2) ∨ g(x1_2) = g(y1_2)\n",
      "¬(x1_3 = y1_3) ∨ ¬M(x1_3) ∨ M(y1_3)\n",
      "¬(x1_4 = y1_4) ∨ ¬N(x1_4) ∨ N(y1_4)\n",
      "¬(x1_5 = y1_5) ∨ ¬P(x1_5) ∨ P(y1_5)\n",
      "¬(x1_6 = y1_6) ∨ ¬R(x1_6) ∨ R(y1_6)\n",
      "¬(x1_7 = y1_7) ∨ ¬Q(x1_7) ∨ Q(y1_7)\n",
      "¬(x1_8 = y1_8) ∨ ¬S(x1_8) ∨ S(y1_8)\n",
      "¬(x1_9 = y1_9) ∨ ¬T(x1_9) ∨ T(y1_9)\n",
      "¬(x1_10 = y1_10) ∨ ¬U(x1_10) ∨ U(y1_10)\n",
      "¬(x1_11 = y1_11) ∨ ¬V(x1_11) ∨ V(y1_11)\n"
     ]
    }
   ],
   "source": [
    "clauses, varaibles = main('input.txt')"
   ]
  },
  {
   "cell_type": "code",
   "execution_count": 122,
   "metadata": {},
   "outputs": [
    {
     "name": "stdout",
     "output_type": "stream",
     "text": [
      "¬S(x) ∨ ¬W(x) ∨ E(x)\n",
      "¬W(x_1) ∨ ¬P(x_1) ∨ SP(x_1)\n",
      "¬R(x_2) ∨ ¬SP(x_2)\n",
      "¬R(x_3) ∨ We(x_3)\n",
      "W(x_4)\n",
      "R(x_5)\n",
      "S(x_6)\n"
     ]
    }
   ],
   "source": [
    "clauses, variables = main('input2.txt')"
   ]
  },
  {
   "cell_type": "markdown",
   "metadata": {},
   "source": [
    "### Putting the clauses in a txt file in the format required by the parser (Done for making the task of the next team easier)"
   ]
  },
  {
   "cell_type": "code",
   "execution_count": null,
   "metadata": {},
   "outputs": [
    {
     "name": "stdout",
     "output_type": "stream",
     "text": [
      "¬M(x) ∨ N(x)\n",
      "P(x_1, skf8(x_1)) ∨ ¬R(x_1)\n",
      "Q(skf8(x_2)) ∨ ¬R(x_2)\n",
      "¬S(f(h(x_3)))\n",
      "T(f(x_4)) ∨ U(x_4)\n",
      "P(z)\n",
      "f(z_1) = g(z_1)\n",
      "¬(a = b) ∨ V(a)\n",
      "x_5 = x_5\n",
      "¬(x_6 = y) ∨ y = x_6\n",
      "¬(x_7 = y_1) ∨ ¬(y_1 = z_2) ∨ x_7 = z_2\n",
      "¬(x1 = y1) ∨ f(x1) = f(y1)\n",
      "¬(x1_1 = y1_1) ∨ h(x1_1) = h(y1_1)\n",
      "¬(x1_2 = y1_2) ∨ g(x1_2) = g(y1_2)\n",
      "¬(x1_3 = y1_3) ∨ ¬M(x1_3) ∨ M(y1_3)\n",
      "¬(x1_4 = y1_4) ∨ ¬N(x1_4) ∨ N(y1_4)\n",
      "¬(x1_5 = y1_5) ∨ ¬P(x1_5) ∨ P(y1_5)\n",
      "¬(x1_6 = y1_6) ∨ ¬R(x1_6) ∨ R(y1_6)\n",
      "¬(x1_7 = y1_7) ∨ ¬Q(x1_7) ∨ Q(y1_7)\n",
      "¬(x1_8 = y1_8) ∨ ¬S(x1_8) ∨ S(y1_8)\n",
      "¬(x1_9 = y1_9) ∨ ¬T(x1_9) ∨ T(y1_9)\n",
      "¬(x1_10 = y1_10) ∨ ¬U(x1_10) ∨ U(y1_10)\n",
      "¬(x1_11 = y1_11) ∨ ¬V(x1_11) ∨ V(y1_11)\n",
      "Transformed clauses have been written to output.txt.\n"
     ]
    }
   ],
   "source": [
    "clauses, base_variables = main('input.txt')\n",
    "\n",
    "# Function to extract and transform variables based on base variable names\n",
    "def extract_variables(clause, base_variables):\n",
    "    # Extract all potential variable occurrences\n",
    "    potential_vars = re.findall(r\"\\b([a-z]\\d*)(_\\d+)?\\b\", clause)\n",
    "    actual_vars = {var + (suffix if suffix else '') for var, suffix in potential_vars if var in base_variables}\n",
    "    return actual_vars\n",
    "\n",
    "# Function to transform clauses\n",
    "def transform_clause(clause, variables):\n",
    "    # Sort variables to ensure proper formatting and predictability\n",
    "    sorted_vars = sorted(variables)\n",
    "    if sorted_vars:\n",
    "        quantified = \"∀\" + \"∀\".join(sorted_vars) + \" (\" + clause + \");\"\n",
    "        return quantified\n",
    "    else:\n",
    "        return clause\n",
    "\n",
    "# Process each clause\n",
    "transformed_clauses = []\n",
    "for clause in clauses:\n",
    "    variables = extract_variables(clause, base_variables)\n",
    "    transformed_clause = transform_clause(clause, variables)\n",
    "    transformed_clauses.append(transformed_clause)\n",
    "\n",
    "with open(\"output.txt\", \"w\") as file:\n",
    "    for clause in transformed_clauses:\n",
    "        file.write(clause + \"\\n\")\n",
    "\n",
    "print(\"Transformed clauses have been written to output.txt.\")"
   ]
  }
 ],
 "metadata": {
  "kernelspec": {
   "display_name": "base",
   "language": "python",
   "name": "python3"
  },
  "language_info": {
   "codemirror_mode": {
    "name": "ipython",
    "version": 3
   },
   "file_extension": ".py",
   "mimetype": "text/x-python",
   "name": "python",
   "nbconvert_exporter": "python",
   "pygments_lexer": "ipython3",
   "version": "3.9.12"
  }
 },
 "nbformat": 4,
 "nbformat_minor": 2
}
