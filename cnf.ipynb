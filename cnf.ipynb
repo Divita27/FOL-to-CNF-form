{
 "cells": [
  {
   "cell_type": "markdown",
   "metadata": {},
   "source": [
    "Change the code a little!"
   ]
  },
  {
   "cell_type": "code",
   "execution_count": 79,
   "metadata": {},
   "outputs": [],
   "source": [
    "op = ['and', 'or', 'not', 'forall', 'exists', 'implies', 'iff']"
   ]
  },
  {
   "cell_type": "markdown",
   "metadata": {},
   "source": [
    "Step-0: Read input from txt file"
   ]
  },
  {
   "cell_type": "code",
   "execution_count": 80,
   "metadata": {},
   "outputs": [],
   "source": [
    "# def parse_formula_with_brackets(formula):\n",
    "#     precedence = {'∧': 1, '∨': 1, '⊃': 2, '↔': 2}\n",
    "#     op_to_word = {'∧': 'and', '∨': 'or', '⊃': 'implies', '↔': 'iff'}\n",
    "    \n",
    "#     # Add spaces around operators and parentheses for easier tokenization\n",
    "#     for op in list(precedence.keys()) + ['(', ')']:\n",
    "#         formula = formula.replace(op, f' {op} ')\n",
    "#     tokens = formula.split()\n",
    "    \n",
    "#     def parse_expression(tokens):\n",
    "#         def next_token():\n",
    "#             return tokens.pop(0) if tokens else None\n",
    "\n",
    "#         def parse_primary_expr(token):\n",
    "#             if token == '(':\n",
    "#                 expr = parse()\n",
    "#                 assert next_token() == ')', \"Unmatched parenthesis\"\n",
    "#                 return expr\n",
    "#             return token\n",
    "\n",
    "#         def parse():\n",
    "#             expr = parse_primary_expr(next_token())\n",
    "#             while tokens and tokens[0] in precedence:\n",
    "#                 op = next_token()\n",
    "#                 right_expr = parse_primary_expr(next_token())\n",
    "#                 expr = [op_to_word[op], expr, right_expr]\n",
    "#             return expr\n",
    "\n",
    "#         return parse()\n",
    "\n",
    "#     parsed_expression = parse_expression(tokens)\n",
    "#     return parsed_expression\n",
    "\n",
    "# # Correct the approach for handling bracketed expressions\n",
    "# formula = \"( p ∨ q ) ⊃ ( r ∧ s ) ↔ t\"\n",
    "# parsed_formula = parse_formula_with_brackets(formula)\n",
    "# parsed_formula"
   ]
  },
  {
   "cell_type": "markdown",
   "metadata": {},
   "source": [
    "Converting input formula into list form"
   ]
  },
  {
   "cell_type": "code",
   "execution_count": 81,
   "metadata": {},
   "outputs": [
    {
     "name": "stdout",
     "output_type": "stream",
     "text": [
      "['forall', 'x', ['iff', ['p', 'x'], ['q', 'x']]]\n"
     ]
    }
   ],
   "source": [
    "import re\n",
    "\n",
    "def parse_logical_expression(formula):\n",
    "    # Updated to include '↔' operator\n",
    "    op_map = {'∀': 'forall', '∃': 'exists', '¬': 'not', '∧': 'and', '∨': 'or', '⊃': 'implies', '↔': 'iff'}\n",
    "    precedence = {'¬': 5, '∧': 4, '∨': 3, '⊃': 2, '↔': 1, '∀': -1, '∃': -1}\n",
    "\n",
    "    formula = re.sub(r'([∀∃¬∧∨⊃↔()])', r' \\1 ', formula)\n",
    "    tokens = [token for token in re.split(r'\\s+', formula) if token]\n",
    "\n",
    "    def next_token():\n",
    "        if tokens:\n",
    "            return tokens.pop(0)\n",
    "        return None\n",
    "\n",
    "    def parse_primary():\n",
    "        token = next_token()\n",
    "        if token in ['∀', '∃']:\n",
    "            var_token = next_token()\n",
    "            expr = parse_expression()\n",
    "            return [op_map[token], var_token, expr]\n",
    "        elif token == '¬':\n",
    "            expr = parse_primary()\n",
    "            return [op_map[token], expr]\n",
    "        elif token.isalnum():\n",
    "            left_expr = token\n",
    "            if tokens and tokens[0] == '(':\n",
    "                tokens.pop(0)  # Remove '('\n",
    "                args = []\n",
    "                while tokens and tokens[0] != ')':\n",
    "                    args.append(parse_expression())\n",
    "                    if tokens and tokens[0] == ',':\n",
    "                        tokens.pop(0)\n",
    "                tokens.pop(0)  # Remove ')'\n",
    "                left_expr = [token] + args\n",
    "            return left_expr\n",
    "        elif token == '(':\n",
    "            expr = parse_expression()\n",
    "            if tokens[0] == ')':\n",
    "                tokens.pop(0)  # Remove ')'\n",
    "            return expr\n",
    "        else:\n",
    "            return None\n",
    "\n",
    "    def parse_expression():\n",
    "        expr = parse_primary()\n",
    "        while tokens and tokens[0] in precedence:\n",
    "            op = next_token()\n",
    "            if precedence[op] == -1:  # Handle quantifiers specially\n",
    "                continue\n",
    "            right_expr = parse_primary()\n",
    "            expr = [op_map[op], expr, right_expr]\n",
    "        return expr\n",
    "\n",
    "    parsed_expression = parse_expression()\n",
    "    return parsed_expression\n",
    "\n",
    "# Test the updated function with the corrected operator handling\n",
    "formula = '∀x (p(x) ↔ q(x))'\n",
    "parsed_formula = parse_logical_expression(formula)\n",
    "print(parsed_formula)\n"
   ]
  },
  {
   "cell_type": "code",
   "execution_count": 82,
   "metadata": {},
   "outputs": [
    {
     "data": {
      "text/plain": [
       "['forall',\n",
       " 'x',\n",
       " ['implies', ['p', 'x'], ['forall', 'y', ['implies', ['q', 'y'], ['r', 'y']]]]]"
      ]
     },
     "execution_count": 82,
     "metadata": {},
     "output_type": "execute_result"
    }
   ],
   "source": [
    "formula = '∀x p(x) ⊃ ∀y (q(y) ⊃ r(y))'\n",
    "parsed_formula = parse_logical_expression(formula)\n",
    "parsed_formula"
   ]
  },
  {
   "cell_type": "code",
   "execution_count": 83,
   "metadata": {},
   "outputs": [
    {
     "data": {
      "text/plain": [
       "['and', ['p', 'a'], ['q', 'b']]"
      ]
     },
     "execution_count": 83,
     "metadata": {},
     "output_type": "execute_result"
    }
   ],
   "source": [
    "formula = 'p(a) ∧ q(b)'\n",
    "parsed_formula = parse_logical_expression(formula)\n",
    "parsed_formula"
   ]
  },
  {
   "cell_type": "code",
   "execution_count": 84,
   "metadata": {},
   "outputs": [
    {
     "data": {
      "text/plain": [
       "['forall', 'x', ['p', 'x']]"
      ]
     },
     "execution_count": 84,
     "metadata": {},
     "output_type": "execute_result"
    }
   ],
   "source": [
    "formula = '∀x p(x)'\n",
    "parsed_formula = parse_logical_expression(formula)\n",
    "parsed_formula"
   ]
  },
  {
   "cell_type": "code",
   "execution_count": 85,
   "metadata": {},
   "outputs": [
    {
     "data": {
      "text/plain": [
       "['exists', 'x', ['not', ['p', 'x']]]"
      ]
     },
     "execution_count": 85,
     "metadata": {},
     "output_type": "execute_result"
    }
   ],
   "source": [
    "formula = '∃x ¬p(x)'\n",
    "parsed_formula = parse_logical_expression(formula)\n",
    "parsed_formula"
   ]
  },
  {
   "cell_type": "code",
   "execution_count": 86,
   "metadata": {},
   "outputs": [
    {
     "data": {
      "text/plain": [
       "['forall', 'x', ['implies', ['p', 'x'], ['q', 'x']]]"
      ]
     },
     "execution_count": 86,
     "metadata": {},
     "output_type": "execute_result"
    }
   ],
   "source": [
    "formula = '∀x (p(x) ⊃ q(x))'\n",
    "parsed_formula = parse_logical_expression(formula)\n",
    "parsed_formula"
   ]
  },
  {
   "cell_type": "code",
   "execution_count": 87,
   "metadata": {},
   "outputs": [
    {
     "data": {
      "text/plain": [
       "['forall', 'x', ['exists', 'y', ['implies', ['p', 'x', 'y'], ['q', 'y']]]]"
      ]
     },
     "execution_count": 87,
     "metadata": {},
     "output_type": "execute_result"
    }
   ],
   "source": [
    "formula = '∀x ∃y (p(x , y) ⊃ q(y))'\n",
    "parsed_formula = parse_logical_expression(formula)\n",
    "parsed_formula"
   ]
  },
  {
   "cell_type": "code",
   "execution_count": 88,
   "metadata": {},
   "outputs": [
    {
     "data": {
      "text/plain": [
       "['or', ['not', ['p', 'a']], ['q', 'b']]"
      ]
     },
     "execution_count": 88,
     "metadata": {},
     "output_type": "execute_result"
    }
   ],
   "source": [
    "formula = '¬p(a) ∨ q(b)'\n",
    "parsed_formula = parse_logical_expression(formula)\n",
    "parsed_formula"
   ]
  },
  {
   "cell_type": "code",
   "execution_count": 89,
   "metadata": {},
   "outputs": [
    {
     "data": {
      "text/plain": [
       "['forall',\n",
       " 'x',\n",
       " ['and',\n",
       "  ['p', 'x'],\n",
       "  ['exists', 'y', ['or', ['q', 'y'], ['not', ['r', 'x', 'y']]]]]]"
      ]
     },
     "execution_count": 89,
     "metadata": {},
     "output_type": "execute_result"
    }
   ],
   "source": [
    "formula = '∀x (p(x) ∧ (∃y (q(y) ∨ ¬r(x , y))))'\n",
    "parsed_formula = parse_logical_expression(formula)\n",
    "parsed_formula"
   ]
  },
  {
   "cell_type": "code",
   "execution_count": 90,
   "metadata": {},
   "outputs": [
    {
     "data": {
      "text/plain": [
       "['implies', ['implies', ['p', 'a'], ['q', 'b']], ['r', 'c']]"
      ]
     },
     "execution_count": 90,
     "metadata": {},
     "output_type": "execute_result"
    }
   ],
   "source": [
    "formula = 'p(a) ⊃ q(b) ⊃ r(c)'\n",
    "parsed_formula = parse_logical_expression(formula)\n",
    "parsed_formula"
   ]
  },
  {
   "cell_type": "code",
   "execution_count": 91,
   "metadata": {},
   "outputs": [
    {
     "data": {
      "text/plain": [
       "['forall', 'x', ['iff', ['p', 'x'], ['q', 'x']]]"
      ]
     },
     "execution_count": 91,
     "metadata": {},
     "output_type": "execute_result"
    }
   ],
   "source": [
    "formula = '∀x (p(x) ↔ q(x))'\n",
    "parsed_formula = parse_logical_expression(formula)\n",
    "parsed_formula"
   ]
  },
  {
   "cell_type": "code",
   "execution_count": 92,
   "metadata": {},
   "outputs": [
    {
     "data": {
      "text/plain": [
       "['forall',\n",
       " 'x',\n",
       " ['and',\n",
       "  ['or', ['p', 'x'], ['q', 'x']],\n",
       "  ['exists', 'y', ['and', ['r', 'y'], ['not', ['s', 'y']]]]]]"
      ]
     },
     "execution_count": 92,
     "metadata": {},
     "output_type": "execute_result"
    }
   ],
   "source": [
    "formula = '∀x (p(x) ∨ q(x)) ∧ ∃y (r(y) ∧ ¬s(y))'\n",
    "parsed_formula = parse_logical_expression(formula)\n",
    "parsed_formula"
   ]
  },
  {
   "cell_type": "code",
   "execution_count": 130,
   "metadata": {},
   "outputs": [
    {
     "data": {
      "text/plain": [
       "['forall', 'x', ['implies', ['p', 'x'], ['q', 'x']]]"
      ]
     },
     "execution_count": 130,
     "metadata": {},
     "output_type": "execute_result"
    }
   ],
   "source": [
    "formula = '∀x (p(x) ⊃ q(x))'\n",
    "parsed_formula = parse_logical_expression(formula)\n",
    "parsed_formula"
   ]
  },
  {
   "cell_type": "markdown",
   "metadata": {},
   "source": [
    "Step-1: Standardize the variables"
   ]
  },
  {
   "cell_type": "code",
   "execution_count": 93,
   "metadata": {},
   "outputs": [
    {
     "name": "stdout",
     "output_type": "stream",
     "text": [
      "Standardized FOL Formula: ['or', ['forall', 'x', ['P', 'x']], ['exists', 'x_1', ['Q', 'x_1']]]\n"
     ]
    }
   ],
   "source": [
    "def standardize_quantified_variables(fol, var_occurrences=None, current_renames=None):\n",
    "    if var_occurrences is None:\n",
    "        var_occurrences = {}\n",
    "    if current_renames is None:\n",
    "        current_renames = {}\n",
    "\n",
    "    # Directly return non-list elements.\n",
    "    if not isinstance(fol, list):\n",
    "        # Replace the variable with its renamed version if it's been renamed.\n",
    "        return current_renames.get(fol, fol)\n",
    "\n",
    "    operator, *args = fol\n",
    "\n",
    "    if operator in ['forall', 'exists']:\n",
    "        # For quantifiers, rename the variable if it's already been used.\n",
    "        quantifier, var, scope = fol\n",
    "        if var in var_occurrences:\n",
    "            # Increment and rename the variable.\n",
    "            new_var_name = f\"{var}_{var_occurrences[var]}\"\n",
    "            var_occurrences[var] += 1\n",
    "        else:\n",
    "            # Initialize the occurrence counter for new variables.\n",
    "            var_occurrences[var] = 1\n",
    "            new_var_name = var\n",
    "\n",
    "        # Update the renaming for the current scope.\n",
    "        updated_renames = {**current_renames, var: new_var_name}\n",
    "        # Recursively standardize the scope with the updated renaming.\n",
    "        standardized_scope = standardize_quantified_variables(scope, var_occurrences, updated_renames)\n",
    "        return [quantifier, new_var_name, standardized_scope]\n",
    "    \n",
    "    # Recursively apply standardization to the arguments of logical operators.\n",
    "    return [operator] + [standardize_quantified_variables(arg, var_occurrences, current_renames) for arg in args]\n",
    "\n",
    "# Test the function\n",
    "fol_formula = ['or', ['forall', 'x', ['P', 'x']], ['exists', 'x', ['Q', 'x']]]\n",
    "# fol_formula = ['forall', 'x', ['exists', 'y', ['or', ['not', ['P', 'x', 'y']], ['exists', 'x', ['Q', 'x', 'z']]]]]\n",
    "standardized_fol = standardize_quantified_variables(fol_formula)\n",
    "print(\"Standardized FOL Formula:\", standardized_fol)"
   ]
  },
  {
   "cell_type": "markdown",
   "metadata": {},
   "source": [
    "Input - The logic is in the form of list.\n",
    "\n",
    "TODO - Read the txt file and convert it into list."
   ]
  },
  {
   "cell_type": "markdown",
   "metadata": {},
   "source": [
    "Step-2: Eliminating the Implication"
   ]
  },
  {
   "cell_type": "markdown",
   "metadata": {},
   "source": [
    "###### Function that takes an implication and returns its equivalent form"
   ]
  },
  {
   "cell_type": "code",
   "execution_count": 94,
   "metadata": {},
   "outputs": [],
   "source": [
    "def eliminateImplication(logic):\n",
    "    \n",
    "    result = []\n",
    "    result.append('or')\n",
    "    result.append(['not', logic[1]])\n",
    "    result.append(logic[2])\n",
    "    \n",
    "    return result"
   ]
  },
  {
   "cell_type": "code",
   "execution_count": 95,
   "metadata": {},
   "outputs": [
    {
     "name": "stdout",
     "output_type": "stream",
     "text": [
      "['or', ['not', ['and', 'A', 'B']], 'C']\n"
     ]
    }
   ],
   "source": [
    "logic = ['implies', ['and', 'A', 'B'], 'C']\n",
    "print(eliminateImplication(logic)) # ['or', ['not', ['and', 'A', 'B']], 'C']"
   ]
  },
  {
   "cell_type": "markdown",
   "metadata": {},
   "source": [
    "###### Function that takes an equivalence and returns its equivalent form"
   ]
  },
  {
   "cell_type": "code",
   "execution_count": 96,
   "metadata": {},
   "outputs": [],
   "source": [
    "def eliminateIFF(logic):\n",
    "    \n",
    "    result = []\n",
    "    result.append('and')\n",
    "    result.append(eliminateImplication(['implies', logic[1], logic[2]]))\n",
    "    result.append(eliminateImplication(['implies', logic[2], logic[1]]))\n",
    "    \n",
    "    return result"
   ]
  },
  {
   "cell_type": "code",
   "execution_count": 97,
   "metadata": {},
   "outputs": [
    {
     "name": "stdout",
     "output_type": "stream",
     "text": [
      "['and', ['or', ['not', ['and', 'A', 'B']], 'C'], ['or', ['not', 'C'], ['and', 'A', 'B']]]\n"
     ]
    }
   ],
   "source": [
    "logic = ['iff', ['and', 'A', 'B'], 'C']\n",
    "print(eliminateIFF(logic)) # ['and', ['or', ['not', ['and', 'A', 'B']], 'C'], ['or', ['not', 'C'], ['and', 'A', 'B']]]"
   ]
  },
  {
   "cell_type": "markdown",
   "metadata": {},
   "source": [
    "###### Function that takes an sentence in FOL and return its equivalent form free of implication"
   ]
  },
  {
   "cell_type": "code",
   "execution_count": 98,
   "metadata": {},
   "outputs": [],
   "source": [
    "def parseImplications(logic):\n",
    "    \n",
    "    # If it is an iff statement, replace logic with the one we get by eliminating iffs\n",
    "    if logic[0] == 'iff' and len(logic) == 3:\n",
    "        logic = eliminateIFF(logic)\n",
    "    #If it is an implies statement, replace logic with the one we get by eliminating implies\n",
    "    if logic[0] == 'implies' and len(logic) == 3:\n",
    "        logic = eliminateImplication(logic)\n",
    "    \n",
    "    \n",
    "    #For all the attributes in the logic repeat the process recursively\n",
    "    for i in range(1, len(logic)):\n",
    "        # print(logic[i])\n",
    "        if len(logic[i]) > 1:\n",
    "            logic[i] = parseImplications(logic[i])\n",
    "       \n",
    "    #return the final logic statement devoid of all implications and iffs\n",
    "    return logic"
   ]
  },
  {
   "cell_type": "code",
   "execution_count": 99,
   "metadata": {},
   "outputs": [
    {
     "name": "stdout",
     "output_type": "stream",
     "text": [
      "['or', 'D', ['or', ['not', ['and', 'A', 'B']], 'C']]\n"
     ]
    }
   ],
   "source": [
    "logic = ['or', 'D', ['implies', ['and', 'A', 'B'], 'C']]\n",
    "# logic = ['implies', ['implies', 'A', 'B'], 'C']\n",
    "print(parseImplications(logic)) # ['or', 'D', ['or', ['not', ['and', 'A', 'B']], 'C']]"
   ]
  },
  {
   "cell_type": "markdown",
   "metadata": {},
   "source": [
    "Step-3: Converting the negation of the implication"
   ]
  },
  {
   "cell_type": "markdown",
   "metadata": {},
   "source": [
    "∀x,y(P(x,y)) will be written in list form as:\n",
    "\n",
    "['forall', 'x', ['forall', 'y', 'f(x,y)']] for functions.\n",
    "\n",
    "['forall', 'x', ['forall', 'y', ['P', 'x', 'y']]] for predicates."
   ]
  },
  {
   "cell_type": "code",
   "execution_count": 100,
   "metadata": {},
   "outputs": [],
   "source": [
    "def propagateNOT(logic):\n",
    "    \n",
    "    result = []\n",
    "\n",
    "    # Checking if the logic is a single element (Redundant bcs of the parseImplications function)\n",
    "    # if type(logic[1]) == str:\n",
    "    #     return logic\n",
    "    #Checking if the inward logic is OR then append AND\n",
    "    if logic[1][0] == 'or':\n",
    "        result.append('and')\n",
    "    #Chicking if inward logic is AND then append OR\n",
    "    elif logic[1][0] == 'and':\n",
    "        result.append('or')\n",
    "    #Checking if inward logic is NOT then return the logic alone\n",
    "    elif logic[1][0] == 'not':\n",
    "        return logic[1][1]\n",
    "    elif logic[1][0] == 'forall':\n",
    "        # Create a negated existential quantifier with the same variable and expression\n",
    "        return ['exists', logic[1][1], propagateNOT(['not', logic[1][2]])]\n",
    "    # Check if the logic is an existential quantifier (∃) then convert to universal (∀) with NOT\n",
    "    elif logic[1][0] == 'exists':\n",
    "        # Create a negated universal quantifier with the same variable and expression\n",
    "        return ['forall', logic[1][1], propagateNOT(['not', logic[1][2]])]\n",
    "    else:\n",
    "        return logic\n",
    "        \n",
    "    #For all arguments of the inner list\n",
    "    for i in range(1, len(logic[1])):\n",
    "        #check if the first argument is another list\n",
    "        if len(logic[1][i]) != 1:\n",
    "            #recursively call to propogate not further inwards\n",
    "            result.append(propagateNOT(['not', logic[1][i]]))\n",
    "        else:\n",
    "            #else append the negation of the single element\n",
    "            result.append(['not', logic[1][i]])\n",
    "     \n",
    "    return result"
   ]
  },
  {
   "cell_type": "code",
   "execution_count": 101,
   "metadata": {},
   "outputs": [
    {
     "name": "stdout",
     "output_type": "stream",
     "text": [
      "['not', ['P', 'x', 'y']]\n"
     ]
    }
   ],
   "source": [
    "logic = ['not', ['P', 'x', 'y']]\n",
    "print(propagateNOT(logic)) # ['not', ['P', 'x', 'y']]"
   ]
  },
  {
   "cell_type": "code",
   "execution_count": 102,
   "metadata": {},
   "outputs": [
    {
     "name": "stdout",
     "output_type": "stream",
     "text": [
      "['or', ['not', 'A'], ['not', 'B']]\n"
     ]
    }
   ],
   "source": [
    "logic = ['not', ['and', 'A', 'B']]\n",
    "print(propagateNOT(logic)) # ['or', ['not', 'A'], ['not', 'B']]"
   ]
  },
  {
   "cell_type": "code",
   "execution_count": 103,
   "metadata": {},
   "outputs": [
    {
     "name": "stdout",
     "output_type": "stream",
     "text": [
      "['exists', 'x', ['not', 'f(x,y)']]\n"
     ]
    }
   ],
   "source": [
    "logic = ['not', ['forall', 'x', 'f(x,y)']]\n",
    "print(propagateNOT(logic)) # ['exists', 'x', 'A']"
   ]
  },
  {
   "cell_type": "code",
   "execution_count": 104,
   "metadata": {},
   "outputs": [
    {
     "name": "stdout",
     "output_type": "stream",
     "text": [
      "['exists', 'x', ['not', ['P', 'x', 'y']]]\n"
     ]
    }
   ],
   "source": [
    "logic = ['not', ['forall', 'x', ['P', 'x', 'y']]]\n",
    "print(propagateNOT(logic)) # ['exists', 'x', ['not', ['P', 'x', 'y']]]"
   ]
  },
  {
   "cell_type": "markdown",
   "metadata": {},
   "source": [
    "###### Function that takes an sentence in FOL and pushes the negation(if any) to the atomic level"
   ]
  },
  {
   "cell_type": "code",
   "execution_count": 105,
   "metadata": {},
   "outputs": [],
   "source": [
    "def parseNOTs(logic):\n",
    "    \n",
    "    #If it is a NOT statement, replace logic with the one we get by propogating not inwards\n",
    "    if logic[0] == 'not' and len(logic) == 2 and len(logic[1]) != 1:\n",
    "        logic = propagateNOT(logic)\n",
    "    \n",
    "    #For all the attributes in the logic repeat the process recursively\n",
    "    for i in range(1, len(logic)):\n",
    "        if len(logic[i]) > 1:\n",
    "            logic[i] = parseNOTs(logic[i])\n",
    "    \n",
    "    #return the final logic statement with NOT propogated inwards\n",
    "    return logic"
   ]
  },
  {
   "cell_type": "code",
   "execution_count": 106,
   "metadata": {},
   "outputs": [
    {
     "name": "stdout",
     "output_type": "stream",
     "text": [
      "['or', ['and', 'A', ['not', 'B']], 'C']\n"
     ]
    }
   ],
   "source": [
    "logic = ['or', ['not', ['or', ['not', 'A'], 'B']], 'C']\n",
    "print(parseNOTs(logic)) # ['or', ['and', 'A', ['not', 'B']], 'C']"
   ]
  },
  {
   "cell_type": "markdown",
   "metadata": {},
   "source": [
    "Step-4: Eliminating the Existential Quantifier"
   ]
  },
  {
   "cell_type": "markdown",
   "metadata": {},
   "source": [
    "Note: ∀x(∃y(P(x,y))) after skolemization is P(?x, sk-y(?x))."
   ]
  },
  {
   "cell_type": "code",
   "execution_count": 107,
   "metadata": {},
   "outputs": [
    {
     "name": "stdout",
     "output_type": "stream",
     "text": [
      "Skolemized Formula: ['forall', 'x', ['P', 'x', 'f(skf0(x))']]\n"
     ]
    }
   ],
   "source": [
    "def skolemize(fol, universal_vars=[], skolem_counter={'constants': 0, 'functions': 0}):\n",
    "    \"\"\"\n",
    "    Skolemize a FOL formula represented as a list, maintaining list structure.\n",
    "    \n",
    "    Args:\n",
    "    fol: The FOL formula as a list.\n",
    "    universal_vars: Variables currently universally quantified in the scope.\n",
    "    skolem_counter: A dictionary with counters for Skolem constants and functions.\n",
    "    \n",
    "    Returns:\n",
    "    The skolemized formula in list form.\n",
    "    \"\"\"\n",
    "    if fol[0] == 'forall':\n",
    "        # Process the formula within the scope of the universal quantifier, adding the variable to the scope\n",
    "        return ['forall', fol[1]] + [skolemize(fol[2], universal_vars + [fol[1]], skolem_counter)]\n",
    "    elif fol[0] == 'exists':\n",
    "        if len(universal_vars) == 0:\n",
    "            # Replace with a Skolem constant if no universal variables are in scope\n",
    "            skc = f'skc{skolem_counter[\"constants\"]}'\n",
    "            skolem_counter[\"constants\"] += 1\n",
    "            # Replace the existential variable with the Skolem constant in the predicate\n",
    "            return replace_variable(fol[2], fol[1], skc)\n",
    "        else:\n",
    "            # Replace with a Skolem function if universal variables are in scope\n",
    "            skf = f'skf{skolem_counter[\"functions\"]}(' + ','.join(universal_vars) + ')'\n",
    "            skolem_counter[\"functions\"] += 1\n",
    "            return replace_variable(fol[2], fol[1], skf)\n",
    "    elif isinstance(fol, list):\n",
    "        # Recursively process each element of the list if it's a complex expression\n",
    "        return [skolemize(part, universal_vars, skolem_counter) for part in fol]\n",
    "    else:\n",
    "        # Return the element unchanged if it's not a quantifier expression\n",
    "        return fol\n",
    "\n",
    "def replace_variable(expr, var, replacement):\n",
    "    \"\"\"\n",
    "    Recursively replace a variable with a Skolem constant/function in an expression.\n",
    "    \n",
    "    Args:\n",
    "    expr: The expression (part of the formula) in which to replace the variable.\n",
    "    var: The variable to replace.\n",
    "    replacement: The Skolem constant or function to replace the variable with.\n",
    "    \n",
    "    Returns:\n",
    "    The expression with the variable replaced.\n",
    "    \"\"\"\n",
    "    if isinstance(expr, str):\n",
    "        # If the expression is a string, replace the variable if it matches\n",
    "        return expr.replace(var, replacement)\n",
    "    elif isinstance(expr, list):\n",
    "        # If the expression is a list, recursively replace in each element\n",
    "        return [replace_variable(part, var, replacement) for part in expr]\n",
    "    else:\n",
    "        # Return the expression unchanged if it's neither a string nor a list\n",
    "        return expr\n",
    "\n",
    "# Example FOL formula\n",
    "fol_formula = ['forall', 'x', ['exists', 'y', ['P', 'x', 'f(y)']]]\n",
    "skolemized_formula = skolemize(fol_formula)\n",
    "print(f\"Skolemized Formula: {skolemized_formula}\")"
   ]
  },
  {
   "cell_type": "code",
   "execution_count": 108,
   "metadata": {},
   "outputs": [
    {
     "name": "stdout",
     "output_type": "stream",
     "text": [
      "Skolemized Formula: ['forall', 'x', ['P', 'x', 'skf1(x)']]\n"
     ]
    }
   ],
   "source": [
    "fol_formula = ['forall', 'x', ['exists', 'y', ['P', 'x', 'y']]]\n",
    "skolemized_formula = skolemize(fol_formula)\n",
    "print(f\"Skolemized Formula: {skolemized_formula}\")"
   ]
  },
  {
   "cell_type": "markdown",
   "metadata": {},
   "source": [
    "Question: What to do with universal quantifier? Just 'x' or '?x'?"
   ]
  },
  {
   "cell_type": "markdown",
   "metadata": {},
   "source": [
    "Step-5: Removing the Universal Quantifier"
   ]
  },
  {
   "cell_type": "code",
   "execution_count": 109,
   "metadata": {},
   "outputs": [
    {
     "name": "stdout",
     "output_type": "stream",
     "text": [
      "['and', ['or', 'A', 'B'], ['P', 'x', 'y']]\n"
     ]
    }
   ],
   "source": [
    "def remove_universal_quantifiers(fol):\n",
    "    \"\"\"\n",
    "    Remove universal quantifiers ('forall') from a FOL formula.\n",
    "\n",
    "    Args:\n",
    "    fol: The FOL formula as a nested list.\n",
    "\n",
    "    Returns:\n",
    "    The modified FOL formula as a nested list without 'forall'.\n",
    "    \"\"\"\n",
    "    if not fol or not isinstance(fol, list):\n",
    "        return fol  # Return as is if fol is not a list or is empty\n",
    "    \n",
    "    if fol[0] == 'forall':\n",
    "        # Skip 'forall' and directly return the processing result of its child without including 'forall' in the output\n",
    "        return remove_universal_quantifiers(fol[2])\n",
    "    else:\n",
    "        # Recursively process each element in the list for nested structures\n",
    "        return [remove_universal_quantifiers(element) for element in fol]\n",
    "\n",
    "# Example FOL formula\n",
    "fol_formula = ['forall', 'x', ['and', ['or', 'A', 'B'], ['forall', 'y', ['P', 'x', 'y']]]]\n",
    "# Removing universal quantifiers\n",
    "modified_formula = remove_universal_quantifiers(fol_formula)\n",
    "print(modified_formula)"
   ]
  },
  {
   "cell_type": "markdown",
   "metadata": {},
   "source": [
    "Step-6: Distributing union over intersection"
   ]
  },
  {
   "cell_type": "code",
   "execution_count": 110,
   "metadata": {},
   "outputs": [],
   "source": [
    "def isDistributionCandidate(logic):\n",
    "    \n",
    "    if logic[0] == 'or':\n",
    "        for i in range(1, len(logic)):\n",
    "            if len(logic[i]) > 1:\n",
    "                if logic[i][0] == 'and':\n",
    "                    return True\n",
    "    return False"
   ]
  },
  {
   "cell_type": "code",
   "execution_count": 111,
   "metadata": {},
   "outputs": [],
   "source": [
    "def parseDistribution(logic):\n",
    "      \n",
    "    #Check if the logic is a candidate for distribution of OR over ANDs\n",
    "    if isDistributionCandidate(logic):\n",
    "        logic = distributeOR(logic)\n",
    "        \n",
    "    #For all the attributes in the logic repeat the process recursively\n",
    "    for i in range(1, len(logic)):\n",
    "        if len(logic[i]) > 1:\n",
    "            logic[i] = parseDistribution(logic[i])\n",
    "            \n",
    "    #Check if the logic is a candidate for distribution of OR over ANDs \n",
    "    if isDistributionCandidate(logic):\n",
    "        logic = distributeOR(logic)\n",
    "    \n",
    "    #return distributed logic\n",
    "    return simplify(logic)"
   ]
  },
  {
   "cell_type": "code",
   "execution_count": 112,
   "metadata": {},
   "outputs": [],
   "source": [
    "def simplify(logic):\n",
    "    \n",
    "    #Only simplify when the literals to an operator are more than 2\n",
    "    if len(logic) > 3 and logic[0] in op:\n",
    "        #need to simplify\n",
    "        logic = getSimplified(logic[0], logic[1:len(logic)-1], logic[len(logic) - 1])\n",
    "        \n",
    "    #Repeat recursively for all sub logics\n",
    "    for i in range(1, len(logic)):\n",
    "        if len(logic[i]) > 1:\n",
    "            logic[i] = simplify(logic[i])\n",
    "        \n",
    "    #Only simplify when the literals to an operator are more than 2\n",
    "    if len(logic) > 3 and logic[0] in op:\n",
    "        #need to simplify\n",
    "        logic = getSimplified(logic[0], logic[1:len(logic)-1], logic[len(logic) - 1])\n",
    "        \n",
    "    return logic"
   ]
  },
  {
   "cell_type": "code",
   "execution_count": 113,
   "metadata": {},
   "outputs": [],
   "source": [
    "def getSimplified(operator, literals, current):\n",
    "    \n",
    "    result = []\n",
    "    result.append(operator)\n",
    "    \n",
    "    #If the literal length is 1 append the literal else recursively call for simplification\n",
    "    if len(literals) == 1:\n",
    "        result.append(literals[0])\n",
    "    else:\n",
    "        result.append(getSimplified(operator, literals[0:len(literals)-1], literals[len(literals)-1]))\n",
    "        \n",
    "    #append the current \n",
    "    result.append(current)\n",
    "    \n",
    "    #return simplified logic\n",
    "    return result"
   ]
  },
  {
   "cell_type": "code",
   "execution_count": 114,
   "metadata": {},
   "outputs": [],
   "source": [
    "def distributeOR(logic):\n",
    "    \n",
    "    result = []\n",
    "    #AND will propogate outwards\n",
    "    result.append('and')\n",
    "    \n",
    "    #Check if both the lists are ands\n",
    "    if logic[1][0] == 'and' and logic[2][0] == 'and':\n",
    "        #Distribute the literals \n",
    "        result.append(parseDistribution(['or', logic[1][1], logic[2][1]]))\n",
    "        result.append(parseDistribution(['or', logic[1][1], logic[2][2]]))\n",
    "        result.append(parseDistribution(['or', logic[1][2], logic[2][1]]))\n",
    "        result.append(parseDistribution(['or', logic[1][2], logic[2][2]]))\n",
    "        \n",
    "    else:\n",
    "        #Either one is and and\n",
    "        if logic[1][0] == 'and':\n",
    "            \n",
    "            #Check if the second argument is a list\n",
    "            if len(logic[2]) > 2:\n",
    "                #check if its a candidate for distribution\n",
    "                if isDistributionCandidate(logic[2]):\n",
    "                    logic[2] = parseDistribution(logic[2])\n",
    "                    \n",
    "                    #Distribute the literals \n",
    "                    result.append(parseDistribution(['or', logic[1][1], logic[2][1]]))\n",
    "                    result.append(parseDistribution(['or', logic[1][1], logic[2][2]]))\n",
    "                    result.append(parseDistribution(['or', logic[1][2], logic[2][1]]))\n",
    "                    result.append(parseDistribution(['or', logic[1][2], logic[2][2]]))\n",
    "                \n",
    "                else:\n",
    "                    #Keep the second as it is\n",
    "                    result.append(parseDistribution(['or', logic[1][1], logic[2]]))\n",
    "                    result.append(parseDistribution(['or', logic[1][2], logic[2]]))\n",
    "                    \n",
    "            else:\n",
    "                #Keep the second as it is\n",
    "                result.append(parseDistribution(['or', logic[1][1], logic[2]]))\n",
    "                result.append(parseDistribution(['or', logic[1][2], logic[2]]))\n",
    "        else:\n",
    "            \n",
    "            #Check if the second argument is a list\n",
    "            if len(logic[1]) > 2:\n",
    "                #check if its a candidate for distribution\n",
    "                if isDistributionCandidate(logic[1]):\n",
    "                    logic[1] = parseDistribution(logic[1])\n",
    "                    \n",
    "                    #Distribute the literals \n",
    "                    result.append(parseDistribution(['or', logic[1][1], logic[2][1]]))\n",
    "                    result.append(parseDistribution(['or', logic[1][1], logic[2][2]]))\n",
    "                    result.append(parseDistribution(['or', logic[1][2], logic[2][1]]))\n",
    "                    result.append(parseDistribution(['or', logic[1][2], logic[2][2]]))\n",
    "                else:\n",
    "                    #Keep the second as it is\n",
    "                    result.append(parseDistribution(['or', logic[1], logic[2][1]]))\n",
    "                    result.append(parseDistribution(['or', logic[1], logic[2][2]]))\n",
    "            else:\n",
    "                #Keep the second as it is\n",
    "                result.append(parseDistribution(['or', logic[1], logic[2][1]]))\n",
    "                result.append(parseDistribution(['or', logic[1], logic[2][2]]))\n",
    "            \n",
    "                \n",
    "    return simplify(result)"
   ]
  },
  {
   "cell_type": "code",
   "execution_count": 115,
   "metadata": {},
   "outputs": [
    {
     "name": "stdout",
     "output_type": "stream",
     "text": [
      "['and', ['and', ['and', ['or', 'A', 'C'], ['or', 'A', 'D']], ['or', 'B', 'C']], ['or', 'B', 'D']]\n"
     ]
    }
   ],
   "source": [
    "logic = ['or', ['and', 'A', 'B'], ['and', 'C', 'D']]\n",
    "print(parseDistribution(logic)) # ['and', ['or', 'A', 'C'], ['or', 'A', 'D'], ['or', 'B', 'C'], ['or', 'B', 'D']]"
   ]
  },
  {
   "cell_type": "code",
   "execution_count": 116,
   "metadata": {},
   "outputs": [
    {
     "name": "stdout",
     "output_type": "stream",
     "text": [
      "['and', ['or', 'A', ['P', 'x', 'y', 'z']], ['or', 'B', ['P', 'x', 'y', 'z']]]\n"
     ]
    }
   ],
   "source": [
    "logic = ['or', ['and', 'A', 'B'], ['P', 'x', 'y', 'z']]\n",
    "print(parseDistribution(logic)) # ['and', ['or', 'A', ['P', 'x', 'y', 'z']], ['or', 'B', ['P', 'x', 'y', 'z']]]"
   ]
  },
  {
   "cell_type": "markdown",
   "metadata": {},
   "source": [
    "Eliminating the conjunctions"
   ]
  },
  {
   "cell_type": "code",
   "execution_count": 117,
   "metadata": {},
   "outputs": [
    {
     "name": "stdout",
     "output_type": "stream",
     "text": [
      "Clauses: [['P', 'Q'], ['R', 'S']]\n"
     ]
    }
   ],
   "source": [
    "def extract_clauses(cnf_formula):\n",
    "    \"\"\"\n",
    "    Extract individual clauses from a CNF formula.\n",
    "    \n",
    "    Args:\n",
    "    cnf_formula: The CNF formula represented as a nested list.\n",
    "    \n",
    "    Returns:\n",
    "    A list of clauses, where each clause is represented as a list of literals.\n",
    "    \"\"\"\n",
    "    # Base case: if the formula is not a list, it's a single literal clause.\n",
    "    if not isinstance(cnf_formula, list):\n",
    "        return [[cnf_formula]]  # Return a single literal in a clause\n",
    "    \n",
    "    operator, *operands = cnf_formula\n",
    "    \n",
    "    # If the top-level operator is 'and', recursively extract clauses from operands.\n",
    "    if operator == 'and':\n",
    "        clauses = []\n",
    "        for operand in operands:\n",
    "            clauses.extend(extract_clauses(operand))  # Combine clauses from all 'and' operands\n",
    "        return clauses\n",
    "    \n",
    "    # If the top-level operator is 'or', the whole formula is a single clause.\n",
    "    elif operator == 'or':\n",
    "        # Recursively flatten the 'or' structure into a single clause\n",
    "        return [flatten_or(operands)]\n",
    "    \n",
    "    # If the formula does not start with 'and' or 'or', treat it as a single literal clause.\n",
    "    else:\n",
    "        return [[cnf_formula]]\n",
    "\n",
    "def flatten_or(operands):\n",
    "    \"\"\"\n",
    "    Flatten a nested 'or' structure into a single list of literals.\n",
    "    \n",
    "    Args:\n",
    "    operands: A list of operands in an 'or' expression.\n",
    "    \n",
    "    Returns:\n",
    "    A flattened list of literals.\n",
    "    \"\"\"\n",
    "    flattened_clause = []\n",
    "    for operand in operands:\n",
    "        if isinstance(operand, list) and operand[0] == 'or':\n",
    "            # If the operand is an 'or', recursively flatten and extend the clause\n",
    "            flattened_clause.extend(flatten_or(operand[1:]))\n",
    "        else:\n",
    "            # Otherwise, add the operand (literal or sub-clause) directly to the clause\n",
    "            flattened_clause.append(operand)\n",
    "    return flattened_clause\n",
    "\n",
    "# Example usage\n",
    "cnf_formula = ['and', ['or', 'P', 'Q'], ['or', 'R', 'S']]\n",
    "# cnf_formula = ['and', ['and', 'P', 'Q'], 'R']\n",
    "clauses = extract_clauses(cnf_formula)\n",
    "print(f\"Clauses: {clauses}\")"
   ]
  },
  {
   "cell_type": "markdown",
   "metadata": {},
   "source": [
    "Removing Duplicates"
   ]
  },
  {
   "cell_type": "code",
   "execution_count": 118,
   "metadata": {},
   "outputs": [
    {
     "data": {
      "text/plain": [
       "[['R', 'S'], ['T'], ['Q', 'P']]"
      ]
     },
     "execution_count": 118,
     "metadata": {},
     "output_type": "execute_result"
    }
   ],
   "source": [
    "def remove_duplicates_from_clauses(clauses):\n",
    "    \"\"\"\n",
    "    Remove duplicate literals within each clause and then remove duplicate clauses.\n",
    "    \n",
    "    Args:\n",
    "    clauses: A list of clauses, where each clause is a list of literals.\n",
    "    \n",
    "    Returns:\n",
    "    A list of unique clauses with unique literals within each clause.\n",
    "    \"\"\"\n",
    "    # Remove duplicate literals within each clause\n",
    "    unique_clauses = [list(set(clause)) for clause in clauses]\n",
    "    \n",
    "    # Remove duplicate clauses\n",
    "    # Convert each clause to a tuple for hashability, then use a set to remove duplicates, then convert back to list\n",
    "    unique_clauses = list(map(list, set(map(tuple, unique_clauses))))\n",
    "    \n",
    "    return unique_clauses\n",
    "\n",
    "# Example clauses, including duplicates within and across clauses\n",
    "clauses = [['P', 'Q'], ['R', 'S'], ['P', 'Q', 'Q'], ['R', 'S'], ['T']]\n",
    "\n",
    "# Remove duplicates\n",
    "unique_clauses = remove_duplicates_from_clauses(clauses)\n",
    "\n",
    "unique_clauses"
   ]
  },
  {
   "cell_type": "markdown",
   "metadata": {},
   "source": [
    "Combining all the steps"
   ]
  },
  {
   "cell_type": "code",
   "execution_count": 122,
   "metadata": {},
   "outputs": [],
   "source": [
    "def parseLogic(logic):\n",
    "    \n",
    "    #For Empty logic\n",
    "    if len(logic) == 0:\n",
    "        return []\n",
    "    #For logic with one Literal\n",
    "    if len(logic) == 1:\n",
    "        return logic\n",
    "    \n",
    "    result = parseImplications(logic)\n",
    "    result = parseNOTs(result)\n",
    "    result = skolemize(result)\n",
    "    # result = simplify(result)\n",
    "    result = remove_universal_quantifiers(result)\n",
    "    result = parseDistribution(result)\n",
    "    result = extract_clauses(result)\n",
    "    # result = remove_duplicates_from_clauses(result)\n",
    "    \n",
    "    return result"
   ]
  },
  {
   "cell_type": "code",
   "execution_count": 123,
   "metadata": {},
   "outputs": [
    {
     "name": "stdout",
     "output_type": "stream",
     "text": [
      "[['A', ['P', 'skc2']], ['A', 'C'], [['not', ['P', 'x']], 'B', ['P', 'skc2']], [['not', ['P', 'x']], 'B', 'C']]\n"
     ]
    }
   ],
   "source": [
    "logic = ['or', ['and', 'A', ['forall', 'x', ['implies', ['P', 'x'], 'B']]], ['exists', 'y', ['and', ['P', 'y'], 'C']]]\n",
    "print(parseLogic(logic))"
   ]
  },
  {
   "cell_type": "markdown",
   "metadata": {},
   "source": [
    "Reading Input from File"
   ]
  },
  {
   "cell_type": "code",
   "execution_count": 131,
   "metadata": {},
   "outputs": [
    {
     "name": "stdout",
     "output_type": "stream",
     "text": [
      "∀x (p(x) ⊃ q(x))\n"
     ]
    }
   ],
   "source": [
    "# Define the file name\n",
    "file_name = 'formula.txt'\n",
    "\n",
    "# Initialize a variable to hold the formula\n",
    "formula = ''\n",
    "\n",
    "# Open the file and read the formula\n",
    "try:\n",
    "    with open(file_name, 'r') as file:\n",
    "        formula = str(file.read().strip())  # Read the content and strip any leading/trailing whitespace\n",
    "except FileNotFoundError:\n",
    "    print(f\"The file {file_name} was not found.\")\n",
    "\n",
    "# Print the formula\n",
    "print(formula)\n"
   ]
  },
  {
   "cell_type": "code",
   "execution_count": 135,
   "metadata": {},
   "outputs": [
    {
     "name": "stdout",
     "output_type": "stream",
     "text": [
      "['forall', 'x', ['implies', ['p', 'x'], ['q', 'x']]]\n",
      "[[['not', ['p', 'x']], ['q', 'x']]]\n"
     ]
    }
   ],
   "source": [
    "new = parse_logical_expression(formula)\n",
    "print(new)\n",
    "result = parseLogic(new)\n",
    "print(result)"
   ]
  },
  {
   "cell_type": "markdown",
   "metadata": {},
   "source": [
    "Converting List Form to Operator Form"
   ]
  },
  {
   "cell_type": "code",
   "execution_count": 137,
   "metadata": {},
   "outputs": [
    {
     "name": "stdout",
     "output_type": "stream",
     "text": [
      "A ∨ P(skc2)\n",
      "A ∨ C\n",
      "B ∨ ¬P(x) V P(skc2)\n",
      "P(x) V B ∨ C\n"
     ]
    }
   ],
   "source": [
    "def logical_expression(clauses):\n",
    "    processed_clauses = []\n",
    "    for clause in clauses:\n",
    "        if len(clause) == 1:\n",
    "            processed_clauses.append(clause[0])\n",
    "        else:\n",
    "            temp = \"\"\n",
    "            for literal in clause:\n",
    "                if isinstance(literal, list) and literal[0] == 'not':\n",
    "                    if len(literal[1]) > 1:\n",
    "                        literal[1] = literal[1][0] + \"(\" + \", \".join(literal[1][1:]) + \")\" + \" V \"\n",
    "                    temp += (f'¬{literal[1]}')\n",
    "                elif isinstance(literal, list):\n",
    "                    if len(literal) > 1:\n",
    "                        literal = literal[0] + \"(\" + \", \".join(literal[1:]) + \")\" + \" V \"\n",
    "                    temp += literal\n",
    "                else:\n",
    "                    temp += literal + \" ∨ \"\n",
    "            processed_clauses.append(temp[:-3])\n",
    "    \n",
    "    return processed_clauses\n",
    "    \n",
    "\n",
    "# Example usage\n",
    "clauses = [['A', ['P', 'skc2']], ['A', 'C'], ['B', ['not', ['P', 'x']], ['P', 'skc2']], [['P', 'x'], 'B', 'C']]\n",
    "logical_expression = logical_expression(clauses)\n",
    "for clause in logical_expression:\n",
    "    print(clause)"
   ]
  },
  {
   "cell_type": "markdown",
   "metadata": {},
   "source": [
    "TODO: Rename all the variables so that no two clauses have the same variable name."
   ]
  },
  {
   "cell_type": "markdown",
   "metadata": {},
   "source": [
    "Simplify"
   ]
  },
  {
   "cell_type": "markdown",
   "metadata": {},
   "source": [
    "Further Steps:"
   ]
  },
  {
   "cell_type": "markdown",
   "metadata": {},
   "source": [
    "How does the parser differentiate between the variables and the constants?"
   ]
  },
  {
   "cell_type": "markdown",
   "metadata": {},
   "source": [
    "How to return the output?"
   ]
  }
 ],
 "metadata": {
  "kernelspec": {
   "display_name": "base",
   "language": "python",
   "name": "python3"
  },
  "language_info": {
   "codemirror_mode": {
    "name": "ipython",
    "version": 3
   },
   "file_extension": ".py",
   "mimetype": "text/x-python",
   "name": "python",
   "nbconvert_exporter": "python",
   "pygments_lexer": "ipython3",
   "version": "3.9.6"
  }
 },
 "nbformat": 4,
 "nbformat_minor": 2
}
