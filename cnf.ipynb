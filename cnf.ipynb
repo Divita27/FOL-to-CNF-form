{
 "cells": [
  {
   "cell_type": "markdown",
   "metadata": {},
   "source": [
    "Validators"
   ]
  },
  {
   "cell_type": "code",
   "execution_count": 8,
   "metadata": {},
   "outputs": [],
   "source": [
    "def isImplicationCandidate(logic):\n",
    "    if logic[0] == 'implies' and len(logic) == 3:\n",
    "        return True\n",
    "    else:\n",
    "        return False"
   ]
  },
  {
   "cell_type": "code",
   "execution_count": 9,
   "metadata": {},
   "outputs": [],
   "source": [
    "def isIFFCandidate(logic):\n",
    "    if logic[0] == 'iff' and len(logic) == 3:\n",
    "        return True\n",
    "    else:\n",
    "        return False"
   ]
  },
  {
   "cell_type": "code",
   "execution_count": 10,
   "metadata": {},
   "outputs": [],
   "source": [
    "def isNPCandidate(logic):\n",
    "    if logic[0] == 'not' and len(logic) == 2 and len(logic[1]) != 1:\n",
    "        return True\n",
    "    else:\n",
    "        return False"
   ]
  },
  {
   "cell_type": "code",
   "execution_count": 11,
   "metadata": {},
   "outputs": [],
   "source": [
    "def isDistributionCandidate(logic):\n",
    "    \n",
    "    if logic[0] == 'or':\n",
    "        for i in range(1, len(logic)):\n",
    "            if len(logic[i]) > 1:\n",
    "                if logic[i][0] == 'and':\n",
    "                    return True\n",
    "    return False"
   ]
  },
  {
   "cell_type": "markdown",
   "metadata": {},
   "source": [
    "Input - The logic is in the form of list.\n",
    "\n",
    "TODO - Read the txt file and convert it into list."
   ]
  },
  {
   "cell_type": "markdown",
   "metadata": {},
   "source": [
    "Step-1: Eliminating the Implication"
   ]
  },
  {
   "cell_type": "code",
   "execution_count": 12,
   "metadata": {},
   "outputs": [],
   "source": [
    "def eliminateImplication(logic):\n",
    "    \n",
    "    result = []\n",
    "    result.append('or')\n",
    "    result.append(['not', logic[1]])\n",
    "    result.append(logic[2])\n",
    "    \n",
    "    return result"
   ]
  },
  {
   "cell_type": "markdown",
   "metadata": {},
   "source": [
    "TODO - Eliminate Equivalence also."
   ]
  },
  {
   "cell_type": "code",
   "execution_count": 13,
   "metadata": {},
   "outputs": [
    {
     "name": "stdout",
     "output_type": "stream",
     "text": [
      "['or', ['not', ['and', 'A', 'B']], 'C']\n"
     ]
    }
   ],
   "source": [
    "logic = ['if', ['and', 'A', 'B'], 'C']\n",
    "print(eliminateImplication(logic)) # ['or', ['not', ['and', 'A', 'B']], 'C']"
   ]
  },
  {
   "cell_type": "markdown",
   "metadata": {},
   "source": [
    "Step-2: Converting the negation of the implication"
   ]
  },
  {
   "cell_type": "markdown",
   "metadata": {},
   "source": [
    "∀x,y(P(x,y)) will be written in list form as:\n",
    "\n",
    "['forall', 'x', ['forall', 'y', 'f(x,y)']] for functions.\n",
    "\n",
    "['forall', 'x', ['forall', 'y', ['P', 'x', 'y']]] for predicates."
   ]
  },
  {
   "cell_type": "code",
   "execution_count": 14,
   "metadata": {},
   "outputs": [],
   "source": [
    "def propagateNOT(logic):\n",
    "    \n",
    "    result = []\n",
    "\n",
    "    #Checking if the logic is a single element\n",
    "    if type(logic[1]) == str:\n",
    "        return logic \n",
    "    #Checking if the inward logic is OR then append AND\n",
    "    if(logic[1][0] == 'or'):\n",
    "        result.append('and')\n",
    "    #Chicking if inward logic is AND then append OR\n",
    "    elif(logic[1][0] == 'and'):\n",
    "        result.append('or')\n",
    "    #Checking if inward logic is NOT then return the logic alone\n",
    "    elif(logic[1][0] == 'not'):\n",
    "        return logic[1][1]\n",
    "    elif logic[1][0] == 'forall':\n",
    "        # Create a negated existential quantifier with the same variable and expression\n",
    "        return ['exists', logic[1][1], propagateNOT(['not', logic[1][2]])]\n",
    "    # Check if the logic is an existential quantifier (∃) then convert to universal (∀) with NOT\n",
    "    elif logic[1][0] == 'exists':\n",
    "        # Create a negated universal quantifier with the same variable and expression\n",
    "        return ['forall', logic[1][1], propagateNOT(['not', logic[1][2]])]\n",
    "    else:\n",
    "        return logic\n",
    "        \n",
    "    #For all arguments of the inner list\n",
    "    for i in range(1, len(logic[1])):\n",
    "        #check if the first argument is another list\n",
    "        if len(logic[1][i]) != 1:\n",
    "            #recursively call to propogate not further inwards\n",
    "            result.append(propagateNOT(['not', logic[1][i]]))\n",
    "        else:\n",
    "            #else append the negation of the single element\n",
    "            result.append(['not', logic[1][i]])\n",
    "     \n",
    "    return result"
   ]
  },
  {
   "cell_type": "code",
   "execution_count": 15,
   "metadata": {},
   "outputs": [
    {
     "name": "stdout",
     "output_type": "stream",
     "text": [
      "['not', ['P', 'x', 'y']]\n"
     ]
    }
   ],
   "source": [
    "logic = ['not', ['P', 'x', 'y']]\n",
    "print(propagateNOT(logic)) # ['not', ['P', 'x', 'y']]"
   ]
  },
  {
   "cell_type": "code",
   "execution_count": 16,
   "metadata": {},
   "outputs": [
    {
     "name": "stdout",
     "output_type": "stream",
     "text": [
      "['or', ['not', 'A'], ['not', 'B']]\n"
     ]
    }
   ],
   "source": [
    "logic = ['not', ['and', 'A', 'B']]\n",
    "print(propagateNOT(logic)) # ['or', ['not', 'A'], ['not', 'B']]"
   ]
  },
  {
   "cell_type": "code",
   "execution_count": 17,
   "metadata": {},
   "outputs": [
    {
     "name": "stdout",
     "output_type": "stream",
     "text": [
      "['exists', 'x', ['not', 'f(x,y)']]\n"
     ]
    }
   ],
   "source": [
    "logic = ['not', ['forall', 'x', 'f(x,y)']]\n",
    "print(propagateNOT(logic)) # ['exists', 'x', 'A']"
   ]
  },
  {
   "cell_type": "code",
   "execution_count": 18,
   "metadata": {},
   "outputs": [
    {
     "name": "stdout",
     "output_type": "stream",
     "text": [
      "['exists', 'x', ['not', ['P', 'x', 'y']]]\n"
     ]
    }
   ],
   "source": [
    "logic = ['not', ['forall', 'x', ['P', 'x', 'y']]]\n",
    "print(propagateNOT(logic)) # ['exists', 'x', ['not', ['P', 'x', 'y']]]"
   ]
  },
  {
   "cell_type": "markdown",
   "metadata": {},
   "source": [
    "Step-3: Eliminating the Existential Quantifier"
   ]
  },
  {
   "cell_type": "markdown",
   "metadata": {},
   "source": [
    "Note: ∀x(∃y(P(x,y))) after skolemization is P(?x, sk-y(?x)).\n",
    "\n",
    "TODO: Implement this properly."
   ]
  },
  {
   "cell_type": "code",
   "execution_count": 19,
   "metadata": {},
   "outputs": [
    {
     "name": "stdout",
     "output_type": "stream",
     "text": [
      "Skolemized Formula: ['forall', 'x', ['P', 'x', 'f(skf0(x))']]\n"
     ]
    }
   ],
   "source": [
    "def skolemize(fol, universal_vars=[], skolem_counter={'constants': 0, 'functions': 0}):\n",
    "    \"\"\"\n",
    "    Skolemize a FOL formula represented as a list, maintaining list structure.\n",
    "    \n",
    "    Args:\n",
    "    fol: The FOL formula as a list.\n",
    "    universal_vars: Variables currently universally quantified in the scope.\n",
    "    skolem_counter: A dictionary with counters for Skolem constants and functions.\n",
    "    \n",
    "    Returns:\n",
    "    The skolemized formula in list form.\n",
    "    \"\"\"\n",
    "    if fol[0] == 'forall':\n",
    "        # Process the formula within the scope of the universal quantifier, adding the variable to the scope\n",
    "        return ['forall', fol[1]] + [skolemize(fol[2], universal_vars + [fol[1]], skolem_counter)]\n",
    "    elif fol[0] == 'exists':\n",
    "        if len(universal_vars) == 0:\n",
    "            # Replace with a Skolem constant if no universal variables are in scope\n",
    "            skc = f'skc{skolem_counter[\"constants\"]}'\n",
    "            skolem_counter[\"constants\"] += 1\n",
    "            # Replace the existential variable with the Skolem constant in the predicate\n",
    "            return replace_variable(fol[2], fol[1], skc)\n",
    "        else:\n",
    "            # Replace with a Skolem function if universal variables are in scope\n",
    "            skf = f'skf{skolem_counter[\"functions\"]}(' + ','.join(universal_vars) + ')'\n",
    "            skolem_counter[\"functions\"] += 1\n",
    "            return replace_variable(fol[2], fol[1], skf)\n",
    "    elif isinstance(fol, list):\n",
    "        # Recursively process each element of the list if it's a complex expression\n",
    "        return [skolemize(part, universal_vars, skolem_counter) for part in fol]\n",
    "    else:\n",
    "        # Return the element unchanged if it's not a quantifier expression\n",
    "        return fol\n",
    "\n",
    "def replace_variable(expr, var, replacement):\n",
    "    \"\"\"\n",
    "    Recursively replace a variable with a Skolem constant/function in an expression.\n",
    "    \n",
    "    Args:\n",
    "    expr: The expression (part of the formula) in which to replace the variable.\n",
    "    var: The variable to replace.\n",
    "    replacement: The Skolem constant or function to replace the variable with.\n",
    "    \n",
    "    Returns:\n",
    "    The expression with the variable replaced.\n",
    "    \"\"\"\n",
    "    if isinstance(expr, str):\n",
    "        # If the expression is a string, replace the variable if it matches\n",
    "        return expr.replace(var, replacement)\n",
    "    elif isinstance(expr, list):\n",
    "        # If the expression is a list, recursively replace in each element\n",
    "        return [replace_variable(part, var, replacement) for part in expr]\n",
    "    else:\n",
    "        # Return the expression unchanged if it's neither a string nor a list\n",
    "        return expr\n",
    "\n",
    "# Example FOL formula\n",
    "fol_formula = ['forall', 'x', ['exists', 'y', ['P', 'x', 'f(y)']]]\n",
    "skolemized_formula = skolemize(fol_formula)\n",
    "print(f\"Skolemized Formula: {skolemized_formula}\")"
   ]
  },
  {
   "cell_type": "code",
   "execution_count": 20,
   "metadata": {},
   "outputs": [
    {
     "name": "stdout",
     "output_type": "stream",
     "text": [
      "Skolemized Formula: ['forall', 'x', ['P', 'x', 'skf1(x)']]\n"
     ]
    }
   ],
   "source": [
    "fol_formula = ['forall', 'x', ['exists', 'y', ['P', 'x', 'y']]]\n",
    "skolemized_formula = skolemize(fol_formula)\n",
    "print(f\"Skolemized Formula: {skolemized_formula}\")"
   ]
  },
  {
   "cell_type": "markdown",
   "metadata": {},
   "source": [
    "What to do with universal quantifier?"
   ]
  },
  {
   "cell_type": "markdown",
   "metadata": {},
   "source": [
    "Step-4: Removing the Universal Quantifier"
   ]
  },
  {
   "cell_type": "code",
   "execution_count": 21,
   "metadata": {},
   "outputs": [
    {
     "name": "stdout",
     "output_type": "stream",
     "text": [
      "['and', ['or', 'A', 'B'], ['P', 'x', 'y']]\n"
     ]
    }
   ],
   "source": [
    "def remove_universal_quantifiers(fol):\n",
    "    \"\"\"\n",
    "    Remove universal quantifiers ('forall') from a FOL formula.\n",
    "\n",
    "    Args:\n",
    "    fol: The FOL formula as a nested list.\n",
    "\n",
    "    Returns:\n",
    "    The modified FOL formula as a nested list without 'forall'.\n",
    "    \"\"\"\n",
    "    if not fol or not isinstance(fol, list):\n",
    "        return fol  # Return as is if fol is not a list or is empty\n",
    "    \n",
    "    if fol[0] == 'forall':\n",
    "        # Skip 'forall' and directly return the processing result of its child without including 'forall' in the output\n",
    "        return remove_universal_quantifiers(fol[2])\n",
    "    else:\n",
    "        # Recursively process each element in the list for nested structures\n",
    "        return [remove_universal_quantifiers(element) for element in fol]\n",
    "\n",
    "# Example FOL formula\n",
    "fol_formula = ['forall', 'x', ['and', ['or', 'A', 'B'], ['forall', 'y', ['P', 'x', 'y']]]]\n",
    "# Removing universal quantifiers\n",
    "modified_formula = remove_universal_quantifiers(fol_formula)\n",
    "print(modified_formula)"
   ]
  },
  {
   "cell_type": "markdown",
   "metadata": {},
   "source": [
    "Step-5: Distributing union over intersection"
   ]
  },
  {
   "cell_type": "code",
   "execution_count": 28,
   "metadata": {},
   "outputs": [],
   "source": [
    "def parseDistribution(logic):\n",
    "      \n",
    "    #Check if the logic is a candidate for distribution of OR over ANDs\n",
    "    if isDistributionCandidate(logic):\n",
    "        logic = distributeOR(logic)\n",
    "        \n",
    "    #For all the attributes in the logic repeat the process recursively\n",
    "    for i in range(1, len(logic)):\n",
    "        if len(logic[i]) > 1:\n",
    "            logic[i] = parseDistribution(logic[i])\n",
    "            \n",
    "    #Check if the logic is a candidate for distribution of OR over ANDs\n",
    "    \n",
    "    if isDistributionCandidate(logic):\n",
    "        logic = distributeOR(logic)\n",
    "    \n",
    "    #return distributed logic\n",
    "    return simplify_logic(logic)"
   ]
  },
  {
   "cell_type": "code",
   "execution_count": 23,
   "metadata": {},
   "outputs": [],
   "source": [
    "# def simplify(logic):\n",
    "    \n",
    "#     #Only simplify when the literals to an operator are more than 2\n",
    "#     if len(logic) > 3:\n",
    "#         #need to simplify\n",
    "#         logic = getSimplified(logic[0], logic[1:len(logic)-1], logic[len(logic) - 1])\n",
    "        \n",
    "#     #Repeat recursively for all sub logics\n",
    "#     for i in range(1, len(logic)):\n",
    "#         if len(logic[i]) > 1:\n",
    "#             logic[i] = simplify(logic[i])\n",
    "        \n",
    "#     #Only simplify when the literals to an operator are more than 2\n",
    "#     if len(logic) > 3:\n",
    "#         #need to simplify\n",
    "#         logic = getSimplified(logic[0], logic[1:len(logic)-1], logic[len(logic) - 1])\n",
    "        \n",
    "#     return logic"
   ]
  },
  {
   "cell_type": "code",
   "execution_count": 24,
   "metadata": {},
   "outputs": [],
   "source": [
    "# def getSimplified(operator, literals, current):\n",
    "    \n",
    "#     result = []\n",
    "#     result.append(operator)\n",
    "    \n",
    "#     #If the literal length is 1 append the literal else recursively call for simplification\n",
    "#     if len(literals) == 1:\n",
    "#         result.append(literals[0])\n",
    "#     else:\n",
    "#         result.append(getSimplified(operator, literals[0:len(literals)-1], literals[len(literals)-1]))\n",
    "        \n",
    "#     #append the current \n",
    "#     result.append(current)\n",
    "    \n",
    "#     #return simplified logic\n",
    "#     return result"
   ]
  },
  {
   "cell_type": "code",
   "execution_count": 25,
   "metadata": {},
   "outputs": [],
   "source": [
    "def distributeOR(logic):\n",
    "    \n",
    "    result = []\n",
    "    #AND will propogate outwards\n",
    "    result.append('and')\n",
    "    \n",
    "    #Check if both the lists are ands\n",
    "    if logic[1][0] == 'and' and logic[2][0] == 'and':\n",
    "        #Distribute the literals \n",
    "        result.append(parseDistribution(['or', logic[1][1], logic[2][1]]))\n",
    "        result.append(parseDistribution(['or', logic[1][1], logic[2][2]]))\n",
    "        result.append(parseDistribution(['or', logic[1][2], logic[2][1]]))\n",
    "        result.append(parseDistribution(['or', logic[1][2], logic[2][2]]))\n",
    "        \n",
    "    else:\n",
    "        #Either one is and and\n",
    "        if logic[1][0] == 'and':\n",
    "            \n",
    "            #Check if the second argument is a list\n",
    "            if len(logic[2]) > 2:\n",
    "                #check if its a candidate for distribution\n",
    "                if isDistributionCandidate(logic[2]):\n",
    "                    logic[2] = parseDistribution(logic[2])\n",
    "                    \n",
    "                    #Distribute the literals \n",
    "                    result.append(parseDistribution(['or', logic[1][1], logic[2][1]]))\n",
    "                    result.append(parseDistribution(['or', logic[1][1], logic[2][2]]))\n",
    "                    result.append(parseDistribution(['or', logic[1][2], logic[2][1]]))\n",
    "                    result.append(parseDistribution(['or', logic[1][2], logic[2][2]]))\n",
    "                \n",
    "                else:\n",
    "                    #Keep the second as it is\n",
    "                    result.append(parseDistribution(['or', logic[1][1], logic[2]]))\n",
    "                    result.append(parseDistribution(['or', logic[1][2], logic[2]]))\n",
    "                    \n",
    "            else:\n",
    "                #Keep the second as it is\n",
    "                result.append(parseDistribution(['or', logic[1][1], logic[2]]))\n",
    "                result.append(parseDistribution(['or', logic[1][2], logic[2]]))\n",
    "        else:\n",
    "            \n",
    "            #Check if the second argument is a list\n",
    "            if len(logic[1]) > 2:\n",
    "                #check if its a candidate for distribution\n",
    "                if isDistributionCandidate(logic[1]):\n",
    "                    logic[1] = parseDistribution(logic[1])\n",
    "                    \n",
    "                    #Distribute the literals \n",
    "                    result.append(parseDistribution(['or', logic[1][1], logic[2][1]]))\n",
    "                    result.append(parseDistribution(['or', logic[1][1], logic[2][2]]))\n",
    "                    result.append(parseDistribution(['or', logic[1][2], logic[2][1]]))\n",
    "                    result.append(parseDistribution(['or', logic[1][2], logic[2][2]]))\n",
    "                else:\n",
    "                    #Keep the second as it is\n",
    "                    result.append(parseDistribution(['or', logic[1], logic[2][1]]))\n",
    "                    result.append(parseDistribution(['or', logic[1], logic[2][2]]))\n",
    "            else:\n",
    "                #Keep the second as it is\n",
    "                result.append(parseDistribution(['or', logic[1], logic[2][1]]))\n",
    "                result.append(parseDistribution(['or', logic[1], logic[2][2]]))\n",
    "            \n",
    "                \n",
    "    return simplify(result)"
   ]
  },
  {
   "cell_type": "code",
   "execution_count": 26,
   "metadata": {},
   "outputs": [
    {
     "name": "stdout",
     "output_type": "stream",
     "text": [
      "['and', ['and', ['and', ['or', 'A', 'C'], ['or', 'A', 'D']], ['or', 'B', 'C']], ['or', 'B', 'D']]\n"
     ]
    }
   ],
   "source": [
    "logic = ['or', ['and', 'A', 'B'], ['and', 'C', 'D']]\n",
    "print(parseDistribution(logic)) # ['and', ['or', 'A', 'C'], ['or', 'A', 'D'], ['or', 'B', 'C'], ['or', 'B', 'D']]"
   ]
  },
  {
   "cell_type": "markdown",
   "metadata": {},
   "source": [
    "Condended Simplify and Get_simplified into 1 function:"
   ]
  },
  {
   "cell_type": "code",
   "execution_count": 27,
   "metadata": {},
   "outputs": [
    {
     "name": "stdout",
     "output_type": "stream",
     "text": [
      "Simplified Expression: ['or', 'a', ['or', 'b', ['or', 'c', 'd']]]\n"
     ]
    }
   ],
   "source": [
    "def simplify_logic(logic):\n",
    "    \"\"\"\n",
    "    Simplify a logical expression to ensure all operators have only two operands.\n",
    "    \n",
    "    Args:\n",
    "    logic: The logical expression to be simplified.\n",
    "    \n",
    "    Returns:\n",
    "    The simplified logical expression.\n",
    "    \"\"\"\n",
    "    # Base case: if logic is not a list or is too short, return it directly.\n",
    "    if not isinstance(logic, list) or len(logic) <= 2:\n",
    "        return logic\n",
    "    \n",
    "    operator = logic[0]\n",
    "    operands = logic[1:]\n",
    "    \n",
    "    # Recursively simplify all operands first.\n",
    "    simplified_operands = [simplify_logic(operand) for operand in operands]\n",
    "    \n",
    "    # Function to iteratively apply the operator to ensure only binary operations.\n",
    "    def binary_operation(op, args):\n",
    "        while len(args) > 2:\n",
    "            # Repeatedly apply the operator to the last two items and update the list.\n",
    "            args = args[:-2] + [[op, args[-2], args[-1]]]\n",
    "        return args\n",
    "\n",
    "    # Apply binary operation restructuring.\n",
    "    if len(simplified_operands) > 2:\n",
    "        # Start the iterative simplification if there are more than two operands.\n",
    "        simplified_operands = binary_operation(operator, simplified_operands)\n",
    "    \n",
    "    # Reconstruct the logic expression with the simplified operands.\n",
    "    return [operator] + simplified_operands\n",
    "\n",
    "# Example usage\n",
    "logic_expression = ['or', 'a', 'b', 'c', 'd']\n",
    "simplified_expression = simplify_logic(logic_expression)\n",
    "print(f\"Simplified Expression: {simplified_expression}\")\n"
   ]
  }
 ],
 "metadata": {
  "kernelspec": {
   "display_name": "base",
   "language": "python",
   "name": "python3"
  },
  "language_info": {
   "codemirror_mode": {
    "name": "ipython",
    "version": 3
   },
   "file_extension": ".py",
   "mimetype": "text/x-python",
   "name": "python",
   "nbconvert_exporter": "python",
   "pygments_lexer": "ipython3",
   "version": "3.9.6"
  }
 },
 "nbformat": 4,
 "nbformat_minor": 2
}
